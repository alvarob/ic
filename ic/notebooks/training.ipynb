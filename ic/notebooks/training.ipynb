{
 "cells": [
  {
   "cell_type": "code",
   "execution_count": 1,
   "id": "2611aaf1-bd10-4c33-b411-80bbc5d94912",
   "metadata": {},
   "outputs": [],
   "source": [
    "import os\n",
    "import sys\n",
    "module_path = os.path.abspath(os.path.join('../..'))\n",
    "if module_path not in sys.path:\n",
    "    sys.path.append(module_path)"
   ]
  },
  {
   "cell_type": "markdown",
   "id": "633e5823-0188-4e20-8eae-a2161eb99f33",
   "metadata": {},
   "source": [
    "# Treino (v2)\n",
    "\n",
    "Conforme conversado em 20/06/2022, tendo em vista que cada arquivo possui ataques diferentes (e são mutualmente exclusivos) treinamos aqui cada um dos modelos (`Gaussian Naive Bayes`, `Complement Naive Bayes` e `Hoeffding Tree`) com cada um dos arquivos.\n",
    "\n",
    "Eles também foram treinados com os arquivos após processamento (ver [preprocess.ipynb](./preprocess.ipynb)), podemos ver nos outputs abaixo que não houve mais erros durante o treino.\n",
    "\n",
    "Os resultados/métricas podem ser vistos em [evaluation.ipynb](./evaluation.ipynb)\n",
    "\n",
    "O código pode ser visto em [ic/models](../ic/models), principalmente em [common.py](../ic/models/common.py)"
   ]
  },
  {
   "cell_type": "code",
   "execution_count": 4,
   "id": "0ce0d2c9-8d9d-426e-a526-fcb7356b2a92",
   "metadata": {},
   "outputs": [],
   "source": [
    "training_data = [\n",
    "    (\"../../data/Tuesday-WorkingHours.pcap_ISCX.processed.train.csv\", \"tue\"),\n",
    "    (\"../../data/Wednesday-workingHours.pcap_ISCX.processed.train.csv\", \"wed\"),\n",
    "    (\"../../data/Thursday-WorkingHours-Morning-WebAttacks.pcap_ISCX.processed.train.csv\", \"thu_m\"),\n",
    "    (\"../../data/Thursday-WorkingHours-Afternoon-Infilteration.pcap_ISCX.processed.train.csv\", \"thu_a\"),\n",
    "    (\"../../data/Friday-WorkingHours-Morning.pcap_ISCX.processed.train.csv\", \"fri_m\"),\n",
    "    (\"../../data/Friday-WorkingHours-Afternoon-DDos.pcap_ISCX.processed.train.csv\", \"fri_a_ddos\"),\n",
    "    (\"../../data/Friday-WorkingHours-Afternoon-PortScan.pcap_ISCX.processed.train.csv\", \"fri_a_portscan\")\n",
    "]\n",
    "\n",
    "def v2_out_path(model_name, kind):\n",
    "    return \"../../trained_models/\"+model_name+\"_v2_\"+kind+\".joblib\""
   ]
  },
  {
   "cell_type": "code",
   "execution_count": 6,
   "id": "1c8538af-57a2-4b62-982e-d45cc9a7b7aa",
   "metadata": {},
   "outputs": [
    {
     "name": "stdout",
     "output_type": "stream",
     "text": [
      "0 out of 94228 lines errored\n",
      "0 out of 178366 lines errored\n",
      "0 out of 33664 lines errored\n",
      "0 out of 61899 lines errored\n",
      "0 out of 36002 lines errored\n",
      "0 out of 68932 lines errored\n",
      "0 out of 104683 lines errored\n"
     ]
    }
   ],
   "source": [
    "from ic.models.naive_bayes import train_and_save as train_nb\n",
    "\n",
    "for path, kind in training_data:\n",
    "    train_nb(\n",
    "        path,\n",
    "        v2_out_path(\"naive_bayes\", kind)\n",
    "    )"
   ]
  },
  {
   "cell_type": "code",
   "execution_count": 7,
   "id": "76b431cb-2e6a-437e-8657-b20a531dec41",
   "metadata": {},
   "outputs": [
    {
     "name": "stdout",
     "output_type": "stream",
     "text": [
      "0 out of 94228 lines errored\n",
      "0 out of 178366 lines errored\n",
      "0 out of 33664 lines errored\n",
      "0 out of 61899 lines errored\n",
      "0 out of 36002 lines errored\n",
      "0 out of 68932 lines errored\n",
      "0 out of 104683 lines errored\n"
     ]
    }
   ],
   "source": [
    "from ic.models.complement_nb import train_and_save as train_complement_nb\n",
    "\n",
    "for path, kind in training_data:\n",
    "    train_complement_nb(\n",
    "        path,\n",
    "        v2_out_path(\"complement_nb\", kind)\n",
    "    )"
   ]
  },
  {
   "cell_type": "code",
   "execution_count": 8,
   "id": "a299ff3c-4dd2-41fb-8b0f-cc310d0782ce",
   "metadata": {},
   "outputs": [
    {
     "name": "stdout",
     "output_type": "stream",
     "text": [
      "0 out of 94228 lines errored\n",
      "0 out of 178366 lines errored\n",
      "0 out of 33664 lines errored\n",
      "0 out of 61899 lines errored\n",
      "0 out of 36002 lines errored\n",
      "0 out of 68932 lines errored\n",
      "0 out of 104683 lines errored\n"
     ]
    }
   ],
   "source": [
    "from ic.models.hoeffding_tree import train_and_save as train_hoeffding\n",
    "\n",
    "for path, kind in training_data:\n",
    "    train_hoeffding(\n",
    "        path,\n",
    "        v2_out_path(\"hoeffding\", kind)\n",
    "    )"
   ]
  }
 ],
 "metadata": {
  "kernelspec": {
   "display_name": "Python 3 (ipykernel)",
   "language": "python",
   "name": "python3"
  },
  "language_info": {
   "codemirror_mode": {
    "name": "ipython",
    "version": 3
   },
   "file_extension": ".py",
   "mimetype": "text/x-python",
   "name": "python",
   "nbconvert_exporter": "python",
   "pygments_lexer": "ipython3",
   "version": "3.10.4"
  }
 },
 "nbformat": 4,
 "nbformat_minor": 5
}
