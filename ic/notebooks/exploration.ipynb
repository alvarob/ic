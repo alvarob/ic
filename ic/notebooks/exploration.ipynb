{
 "cells": [
  {
   "cell_type": "code",
   "execution_count": 1,
   "id": "312fba2c-01e0-4d68-a8a7-8f28dfb9347e",
   "metadata": {},
   "outputs": [],
   "source": [
    "import os\n",
    "import sys\n",
    "module_path = os.path.abspath(os.path.join('../..'))\n",
    "if module_path not in sys.path:\n",
    "    sys.path.append(module_path)\n",
    "\n",
    "import csv"
   ]
  },
  {
   "cell_type": "code",
   "execution_count": 2,
   "id": "16f90572-f7e1-40f7-b14d-f8cd7113457c",
   "metadata": {},
   "outputs": [
    {
     "name": "stdout",
     "output_type": "stream",
     "text": [
      "Labels: {'Heartbleed', 'DDoS', 'Web Attack  Sql Injection', 'Infiltration', 'Web Attack  XSS', 'SSH-Patator', 'DoS slowloris', 'Web Attack  Brute Force', 'PortScan', 'DoS GoldenEye', 'Bot', 'DoS Slowhttptest', 'FTP-Patator', 'BENIGN', 'DoS Hulk'} Protocols: {'6', '0', '17'}\n"
     ]
    }
   ],
   "source": [
    "from ic.models.common import process_row\n",
    "\n",
    "with open('../../data/Grouped_All.csv') as file:\n",
    "    protocol_set = set()\n",
    "    label_set = set()\n",
    "    \n",
    "    csv_reader = csv.reader(file)\n",
    "    next(csv_reader)\n",
    "\n",
    "    for row in csv_reader:\n",
    "        try:\n",
    "            (x, y) = process_row(row)\n",
    "            protocol_set.add(row[5])\n",
    "            label_set.add(row[-1])\n",
    "        except ValueError:\n",
    "            pass\n",
    "    \n",
    "    print(\"Labels:\", label_set, \"Protocols:\", protocol_set)"
   ]
  },
  {
   "cell_type": "code",
   "execution_count": 10,
   "id": "16a9e872-02e3-4acd-9b87-821ba7ba9def",
   "metadata": {},
   "outputs": [
    {
     "name": "stdout",
     "output_type": "stream",
     "text": [
      "['Flow ID', ' Source IP', ' Source Port', ' Destination IP', ' Destination Port', ' Protocol', ' Timestamp', ' Flow Duration', ' Total Fwd Packets', ' Total Backward Packets', 'Total Length of Fwd Packets', ' Total Length of Bwd Packets', ' Fwd Packet Length Max', ' Fwd Packet Length Min', ' Fwd Packet Length Mean', ' Fwd Packet Length Std', 'Bwd Packet Length Max', ' Bwd Packet Length Min', ' Bwd Packet Length Mean', ' Bwd Packet Length Std', 'Flow Bytes/s', ' Flow Packets/s', ' Flow IAT Mean', ' Flow IAT Std', ' Flow IAT Max', ' Flow IAT Min', 'Fwd IAT Total', ' Fwd IAT Mean', ' Fwd IAT Std', ' Fwd IAT Max', ' Fwd IAT Min', 'Bwd IAT Total', ' Bwd IAT Mean', ' Bwd IAT Std', ' Bwd IAT Max', ' Bwd IAT Min', 'Fwd PSH Flags', ' Bwd PSH Flags', ' Fwd URG Flags', ' Bwd URG Flags', ' Fwd Header Length', ' Bwd Header Length', 'Fwd Packets/s', ' Bwd Packets/s', ' Min Packet Length', ' Max Packet Length', ' Packet Length Mean', ' Packet Length Std', ' Packet Length Variance', 'FIN Flag Count', ' SYN Flag Count', ' RST Flag Count', ' PSH Flag Count', ' ACK Flag Count', ' URG Flag Count', ' CWE Flag Count', ' ECE Flag Count', ' Down/Up Ratio', ' Average Packet Size', ' Avg Fwd Segment Size', ' Avg Bwd Segment Size', ' Fwd Header Length', 'Fwd Avg Bytes/Bulk', ' Fwd Avg Packets/Bulk', ' Fwd Avg Bulk Rate', ' Bwd Avg Bytes/Bulk', ' Bwd Avg Packets/Bulk', 'Bwd Avg Bulk Rate', 'Subflow Fwd Packets', ' Subflow Fwd Bytes', ' Subflow Bwd Packets', ' Subflow Bwd Bytes', 'Init_Win_bytes_forward', ' Init_Win_bytes_backward', ' act_data_pkt_fwd', ' min_seg_size_forward', 'Active Mean', ' Active Std', ' Active Max', ' Active Min', 'Idle Mean', ' Idle Std', ' Idle Max', ' Idle Min', ' Label'] 72\n"
     ]
    }
   ],
   "source": [
    "import csv\n",
    "\n",
    "def all_headers():\n",
    "    with open('../../data/Grouped_All.csv') as file:\n",
    "        csv_reader = csv.reader(file)\n",
    "        return next(csv_reader)\n",
    "\n",
    "all_available_headers = all_headers()\n",
    "print(all_available_headers, all_available_headers.index(\"Init_Win_bytes_forward\"))"
   ]
  },
  {
   "cell_type": "code",
   "execution_count": 3,
   "id": "b91b7e66-76f5-4dd5-83fc-73795f8264d4",
   "metadata": {},
   "outputs": [
    {
     "name": "stdout",
     "output_type": "stream",
     "text": [
      "[' Protocol', ' Flow Duration', ' Total Fwd Packets', ' Total Backward Packets', 'Total Length of Fwd Packets', ' Total Length of Bwd Packets', ' Fwd Packet Length Max', ' Fwd Packet Length Min', ' Fwd Packet Length Mean', ' Fwd Packet Length Std', 'Bwd Packet Length Max', ' Bwd Packet Length Min', ' Bwd Packet Length Mean', ' Bwd Packet Length Std', 'Flow Bytes/s', ' Flow Packets/s', ' Flow IAT Mean', ' Flow IAT Std', ' Flow IAT Max', ' Flow IAT Min', 'Fwd IAT Total', ' Fwd IAT Mean', ' Fwd IAT Std', ' Fwd IAT Max', ' Fwd IAT Min', 'Bwd IAT Total', ' Bwd IAT Mean', ' Bwd IAT Std', ' Bwd IAT Max', ' Bwd IAT Min', 'Fwd PSH Flags', ' Bwd PSH Flags', ' Fwd URG Flags', ' Bwd URG Flags', ' Fwd Header Length', ' Bwd Header Length', 'Fwd Packets/s', ' Bwd Packets/s', ' Min Packet Length', ' Max Packet Length', ' Packet Length Mean', ' Packet Length Std', ' Packet Length Variance', 'FIN Flag Count', ' SYN Flag Count', ' RST Flag Count', ' PSH Flag Count', ' ACK Flag Count', ' URG Flag Count', ' CWE Flag Count', ' ECE Flag Count', ' Down/Up Ratio', ' Average Packet Size', ' Avg Fwd Segment Size', ' Avg Bwd Segment Size', ' Fwd Header Length', 'Fwd Avg Bytes/Bulk', ' Fwd Avg Packets/Bulk', ' Fwd Avg Bulk Rate', ' Bwd Avg Bytes/Bulk', ' Bwd Avg Packets/Bulk', 'Bwd Avg Bulk Rate', 'Subflow Fwd Packets', ' Subflow Fwd Bytes', ' Subflow Bwd Packets', ' Subflow Bwd Bytes', 'Init_Win_bytes_forward', ' Init_Win_bytes_backward', ' act_data_pkt_fwd', ' min_seg_size_forward', 'Active Mean', ' Active Std', ' Active Max', ' Active Min', 'Idle Mean', ' Idle Std', ' Idle Max', ' Idle Min']\n"
     ]
    }
   ],
   "source": [
    "import csv\n",
    "\n",
    "def get_headers():\n",
    "    with open('../../data/Grouped_All.csv') as file:\n",
    "        csv_reader = csv.reader(file)\n",
    "        headers = next(csv_reader)\n",
    "        return [ headers[5] , *headers[7:-1] ]\n",
    "    \n",
    "def gen_general_stats():\n",
    "    return {\n",
    "        'lines_with_nan': 0,\n",
    "        'lines_with_inf': 0,\n",
    "        'lines_with_neg': 0,\n",
    "        'lines_with_exception': 0,\n",
    "        'total_lines': 0\n",
    "    }\n",
    "            \n",
    "headers = get_headers()\n",
    "print(headers)"
   ]
  },
  {
   "cell_type": "code",
   "execution_count": 4,
   "id": "35477f5e-f856-4dcc-856a-29ac727570eb",
   "metadata": {},
   "outputs": [],
   "source": [
    "def gen_analysis_dic(header_list):\n",
    "    return dict([ \n",
    "        (header_label, { \n",
    "            'inf_count': 0,\n",
    "            'nan_count': 0,\n",
    "            'neg_count': 0,\n",
    "            'exception_count': 0,\n",
    "            'inf_values': set(),\n",
    "            'nan_values': set(),\n",
    "            'exception_values': set()\n",
    "        }) for header_label in header_list\n",
    "    ])\n",
    "\n",
    "analysis_dic = gen_analysis_dic(headers)"
   ]
  },
  {
   "cell_type": "code",
   "execution_count": 5,
   "id": "ec07dafb-20f1-46ec-83d0-e99812b235ee",
   "metadata": {},
   "outputs": [],
   "source": [
    "import csv, math\n",
    "\n",
    "def analyze(\n",
    "    file_paths,\n",
    "    headers,\n",
    "    analysis_dic, \n",
    "    general_stats\n",
    "):\n",
    "    for file_path in file_paths:\n",
    "        with open(file_path, errors='ignore') as file:\n",
    "            csv_reader = csv.reader(file)\n",
    "            next(csv_reader)\n",
    "            for row in csv_reader:\n",
    "                values = [ row[5], *row[7:-1] ]\n",
    "            \n",
    "                nan_flag = False\n",
    "                inf_flag = False\n",
    "                neg_flag = False\n",
    "                exception_flag = False\n",
    "                general_stats['total_lines'] += 1\n",
    "                \n",
    "                for i in range(len(values)):                    \n",
    "                    try:\n",
    "                        float_value = float(values[i])\n",
    "                        \n",
    "                        if float_value < 0:\n",
    "                            if not neg_flag:\n",
    "                                neg_flag = True\n",
    "                                general_stats['lines_with_neg'] += 1\n",
    "                            analysis_dic[headers[i]]['neg_count'] += 1\n",
    "                        \n",
    "                        if math.fabs(float_value) == math.inf:\n",
    "                            if not inf_flag:\n",
    "                                inf_flag = True\n",
    "                                general_stats['lines_with_inf'] += 1\n",
    "                            analysis_dic[headers[i]]['inf_count'] += 1\n",
    "                            analysis_dic[headers[i]]['inf_values'].add(values[i])\n",
    "                        \n",
    "                        if float_value == math.nan:\n",
    "                            if not nan_flag:\n",
    "                                nan_flag = True\n",
    "                                general_stats['lines_with_nan'] += 1\n",
    "                            analysis_dic[headers[i]]['nan_count'] += 1\n",
    "                            analysis_dic[headers[i]]['nan_values'].add(values[i])\n",
    "                            \n",
    "                    except:\n",
    "                        if not exception_flag:\n",
    "                            exception_flag = True\n",
    "                            general_stats['lines_with_exception'] += 1\n",
    "                        analysis_dic[headers[i]]['exception_count'] += 1\n",
    "                        analysis_dic[headers[i]]['exception_values'].add(values[i])\n",
    "    \n",
    "    return (analysis_dic, general_stats)\n",
    "                    \n",
    "    "
   ]
  },
  {
   "cell_type": "code",
   "execution_count": 6,
   "id": "210b970c-e39e-43fb-888e-c983b1c95396",
   "metadata": {},
   "outputs": [
    {
     "name": "stdout",
     "output_type": "stream",
     "text": [
      "({' Protocol': {'inf_count': 0, 'nan_count': 0, 'neg_count': 0, 'exception_count': 288602, 'inf_values': set(), 'nan_values': set(), 'exception_values': {''}}, ' Flow Duration': {'inf_count': 0, 'nan_count': 0, 'neg_count': 115, 'exception_count': 288602, 'inf_values': set(), 'nan_values': set(), 'exception_values': {''}}, ' Total Fwd Packets': {'inf_count': 0, 'nan_count': 0, 'neg_count': 0, 'exception_count': 288602, 'inf_values': set(), 'nan_values': set(), 'exception_values': {''}}, ' Total Backward Packets': {'inf_count': 0, 'nan_count': 0, 'neg_count': 0, 'exception_count': 288602, 'inf_values': set(), 'nan_values': set(), 'exception_values': {''}}, 'Total Length of Fwd Packets': {'inf_count': 0, 'nan_count': 0, 'neg_count': 0, 'exception_count': 288602, 'inf_values': set(), 'nan_values': set(), 'exception_values': {''}}, ' Total Length of Bwd Packets': {'inf_count': 0, 'nan_count': 0, 'neg_count': 0, 'exception_count': 288602, 'inf_values': set(), 'nan_values': set(), 'exception_values': {''}}, ' Fwd Packet Length Max': {'inf_count': 0, 'nan_count': 0, 'neg_count': 0, 'exception_count': 288602, 'inf_values': set(), 'nan_values': set(), 'exception_values': {''}}, ' Fwd Packet Length Min': {'inf_count': 0, 'nan_count': 0, 'neg_count': 0, 'exception_count': 288602, 'inf_values': set(), 'nan_values': set(), 'exception_values': {''}}, ' Fwd Packet Length Mean': {'inf_count': 0, 'nan_count': 0, 'neg_count': 0, 'exception_count': 288602, 'inf_values': set(), 'nan_values': set(), 'exception_values': {''}}, ' Fwd Packet Length Std': {'inf_count': 0, 'nan_count': 0, 'neg_count': 0, 'exception_count': 288602, 'inf_values': set(), 'nan_values': set(), 'exception_values': {''}}, 'Bwd Packet Length Max': {'inf_count': 0, 'nan_count': 0, 'neg_count': 0, 'exception_count': 288602, 'inf_values': set(), 'nan_values': set(), 'exception_values': {''}}, ' Bwd Packet Length Min': {'inf_count': 0, 'nan_count': 0, 'neg_count': 0, 'exception_count': 288602, 'inf_values': set(), 'nan_values': set(), 'exception_values': {''}}, ' Bwd Packet Length Mean': {'inf_count': 0, 'nan_count': 0, 'neg_count': 0, 'exception_count': 288602, 'inf_values': set(), 'nan_values': set(), 'exception_values': {''}}, ' Bwd Packet Length Std': {'inf_count': 0, 'nan_count': 0, 'neg_count': 0, 'exception_count': 288602, 'inf_values': set(), 'nan_values': set(), 'exception_values': {''}}, 'Flow Bytes/s': {'inf_count': 1509, 'nan_count': 0, 'neg_count': 85, 'exception_count': 288602, 'inf_values': {'Infinity'}, 'nan_values': set(), 'exception_values': {''}}, ' Flow Packets/s': {'inf_count': 2867, 'nan_count': 0, 'neg_count': 115, 'exception_count': 288602, 'inf_values': {'Infinity'}, 'nan_values': set(), 'exception_values': {''}}, ' Flow IAT Mean': {'inf_count': 0, 'nan_count': 0, 'neg_count': 115, 'exception_count': 288602, 'inf_values': set(), 'nan_values': set(), 'exception_values': {''}}, ' Flow IAT Std': {'inf_count': 0, 'nan_count': 0, 'neg_count': 0, 'exception_count': 288602, 'inf_values': set(), 'nan_values': set(), 'exception_values': {''}}, ' Flow IAT Max': {'inf_count': 0, 'nan_count': 0, 'neg_count': 115, 'exception_count': 288602, 'inf_values': set(), 'nan_values': set(), 'exception_values': {''}}, ' Flow IAT Min': {'inf_count': 0, 'nan_count': 0, 'neg_count': 2891, 'exception_count': 288602, 'inf_values': set(), 'nan_values': set(), 'exception_values': {''}}, 'Fwd IAT Total': {'inf_count': 0, 'nan_count': 0, 'neg_count': 0, 'exception_count': 288602, 'inf_values': set(), 'nan_values': set(), 'exception_values': {''}}, ' Fwd IAT Mean': {'inf_count': 0, 'nan_count': 0, 'neg_count': 0, 'exception_count': 288602, 'inf_values': set(), 'nan_values': set(), 'exception_values': {''}}, ' Fwd IAT Std': {'inf_count': 0, 'nan_count': 0, 'neg_count': 0, 'exception_count': 288602, 'inf_values': set(), 'nan_values': set(), 'exception_values': {''}}, ' Fwd IAT Max': {'inf_count': 0, 'nan_count': 0, 'neg_count': 0, 'exception_count': 288602, 'inf_values': set(), 'nan_values': set(), 'exception_values': {''}}, ' Fwd IAT Min': {'inf_count': 0, 'nan_count': 0, 'neg_count': 17, 'exception_count': 288602, 'inf_values': set(), 'nan_values': set(), 'exception_values': {''}}, 'Bwd IAT Total': {'inf_count': 0, 'nan_count': 0, 'neg_count': 0, 'exception_count': 288602, 'inf_values': set(), 'nan_values': set(), 'exception_values': {''}}, ' Bwd IAT Mean': {'inf_count': 0, 'nan_count': 0, 'neg_count': 0, 'exception_count': 288602, 'inf_values': set(), 'nan_values': set(), 'exception_values': {''}}, ' Bwd IAT Std': {'inf_count': 0, 'nan_count': 0, 'neg_count': 0, 'exception_count': 288602, 'inf_values': set(), 'nan_values': set(), 'exception_values': {''}}, ' Bwd IAT Max': {'inf_count': 0, 'nan_count': 0, 'neg_count': 0, 'exception_count': 288602, 'inf_values': set(), 'nan_values': set(), 'exception_values': {''}}, ' Bwd IAT Min': {'inf_count': 0, 'nan_count': 0, 'neg_count': 0, 'exception_count': 288602, 'inf_values': set(), 'nan_values': set(), 'exception_values': {''}}, 'Fwd PSH Flags': {'inf_count': 0, 'nan_count': 0, 'neg_count': 0, 'exception_count': 288602, 'inf_values': set(), 'nan_values': set(), 'exception_values': {''}}, ' Bwd PSH Flags': {'inf_count': 0, 'nan_count': 0, 'neg_count': 0, 'exception_count': 288602, 'inf_values': set(), 'nan_values': set(), 'exception_values': {''}}, ' Fwd URG Flags': {'inf_count': 0, 'nan_count': 0, 'neg_count': 0, 'exception_count': 288602, 'inf_values': set(), 'nan_values': set(), 'exception_values': {''}}, ' Bwd URG Flags': {'inf_count': 0, 'nan_count': 0, 'neg_count': 0, 'exception_count': 288602, 'inf_values': set(), 'nan_values': set(), 'exception_values': {''}}, ' Fwd Header Length': {'inf_count': 0, 'nan_count': 0, 'neg_count': 70, 'exception_count': 577204, 'inf_values': set(), 'nan_values': set(), 'exception_values': {''}}, ' Bwd Header Length': {'inf_count': 0, 'nan_count': 0, 'neg_count': 22, 'exception_count': 288602, 'inf_values': set(), 'nan_values': set(), 'exception_values': {''}}, 'Fwd Packets/s': {'inf_count': 0, 'nan_count': 0, 'neg_count': 0, 'exception_count': 288602, 'inf_values': set(), 'nan_values': set(), 'exception_values': {''}}, ' Bwd Packets/s': {'inf_count': 0, 'nan_count': 0, 'neg_count': 0, 'exception_count': 288602, 'inf_values': set(), 'nan_values': set(), 'exception_values': {''}}, ' Min Packet Length': {'inf_count': 0, 'nan_count': 0, 'neg_count': 0, 'exception_count': 288602, 'inf_values': set(), 'nan_values': set(), 'exception_values': {''}}, ' Max Packet Length': {'inf_count': 0, 'nan_count': 0, 'neg_count': 0, 'exception_count': 288602, 'inf_values': set(), 'nan_values': set(), 'exception_values': {''}}, ' Packet Length Mean': {'inf_count': 0, 'nan_count': 0, 'neg_count': 0, 'exception_count': 288602, 'inf_values': set(), 'nan_values': set(), 'exception_values': {''}}, ' Packet Length Std': {'inf_count': 0, 'nan_count': 0, 'neg_count': 0, 'exception_count': 288602, 'inf_values': set(), 'nan_values': set(), 'exception_values': {''}}, ' Packet Length Variance': {'inf_count': 0, 'nan_count': 0, 'neg_count': 0, 'exception_count': 288602, 'inf_values': set(), 'nan_values': set(), 'exception_values': {''}}, 'FIN Flag Count': {'inf_count': 0, 'nan_count': 0, 'neg_count': 0, 'exception_count': 288602, 'inf_values': set(), 'nan_values': set(), 'exception_values': {''}}, ' SYN Flag Count': {'inf_count': 0, 'nan_count': 0, 'neg_count': 0, 'exception_count': 288602, 'inf_values': set(), 'nan_values': set(), 'exception_values': {''}}, ' RST Flag Count': {'inf_count': 0, 'nan_count': 0, 'neg_count': 0, 'exception_count': 288602, 'inf_values': set(), 'nan_values': set(), 'exception_values': {''}}, ' PSH Flag Count': {'inf_count': 0, 'nan_count': 0, 'neg_count': 0, 'exception_count': 288602, 'inf_values': set(), 'nan_values': set(), 'exception_values': {''}}, ' ACK Flag Count': {'inf_count': 0, 'nan_count': 0, 'neg_count': 0, 'exception_count': 288602, 'inf_values': set(), 'nan_values': set(), 'exception_values': {''}}, ' URG Flag Count': {'inf_count': 0, 'nan_count': 0, 'neg_count': 0, 'exception_count': 288602, 'inf_values': set(), 'nan_values': set(), 'exception_values': {''}}, ' CWE Flag Count': {'inf_count': 0, 'nan_count': 0, 'neg_count': 0, 'exception_count': 288602, 'inf_values': set(), 'nan_values': set(), 'exception_values': {''}}, ' ECE Flag Count': {'inf_count': 0, 'nan_count': 0, 'neg_count': 0, 'exception_count': 288602, 'inf_values': set(), 'nan_values': set(), 'exception_values': {''}}, ' Down/Up Ratio': {'inf_count': 0, 'nan_count': 0, 'neg_count': 0, 'exception_count': 288602, 'inf_values': set(), 'nan_values': set(), 'exception_values': {''}}, ' Average Packet Size': {'inf_count': 0, 'nan_count': 0, 'neg_count': 0, 'exception_count': 288602, 'inf_values': set(), 'nan_values': set(), 'exception_values': {''}}, ' Avg Fwd Segment Size': {'inf_count': 0, 'nan_count': 0, 'neg_count': 0, 'exception_count': 288602, 'inf_values': set(), 'nan_values': set(), 'exception_values': {''}}, ' Avg Bwd Segment Size': {'inf_count': 0, 'nan_count': 0, 'neg_count': 0, 'exception_count': 288602, 'inf_values': set(), 'nan_values': set(), 'exception_values': {''}}, 'Fwd Avg Bytes/Bulk': {'inf_count': 0, 'nan_count': 0, 'neg_count': 0, 'exception_count': 288602, 'inf_values': set(), 'nan_values': set(), 'exception_values': {''}}, ' Fwd Avg Packets/Bulk': {'inf_count': 0, 'nan_count': 0, 'neg_count': 0, 'exception_count': 288602, 'inf_values': set(), 'nan_values': set(), 'exception_values': {''}}, ' Fwd Avg Bulk Rate': {'inf_count': 0, 'nan_count': 0, 'neg_count': 0, 'exception_count': 288602, 'inf_values': set(), 'nan_values': set(), 'exception_values': {''}}, ' Bwd Avg Bytes/Bulk': {'inf_count': 0, 'nan_count': 0, 'neg_count': 0, 'exception_count': 288602, 'inf_values': set(), 'nan_values': set(), 'exception_values': {''}}, ' Bwd Avg Packets/Bulk': {'inf_count': 0, 'nan_count': 0, 'neg_count': 0, 'exception_count': 288602, 'inf_values': set(), 'nan_values': set(), 'exception_values': {''}}, 'Bwd Avg Bulk Rate': {'inf_count': 0, 'nan_count': 0, 'neg_count': 0, 'exception_count': 288602, 'inf_values': set(), 'nan_values': set(), 'exception_values': {''}}, 'Subflow Fwd Packets': {'inf_count': 0, 'nan_count': 0, 'neg_count': 0, 'exception_count': 288602, 'inf_values': set(), 'nan_values': set(), 'exception_values': {''}}, ' Subflow Fwd Bytes': {'inf_count': 0, 'nan_count': 0, 'neg_count': 0, 'exception_count': 288602, 'inf_values': set(), 'nan_values': set(), 'exception_values': {''}}, ' Subflow Bwd Packets': {'inf_count': 0, 'nan_count': 0, 'neg_count': 0, 'exception_count': 288602, 'inf_values': set(), 'nan_values': set(), 'exception_values': {''}}, ' Subflow Bwd Bytes': {'inf_count': 0, 'nan_count': 0, 'neg_count': 0, 'exception_count': 288602, 'inf_values': set(), 'nan_values': set(), 'exception_values': {''}}, 'Init_Win_bytes_forward': {'inf_count': 0, 'nan_count': 0, 'neg_count': 1001189, 'exception_count': 288602, 'inf_values': set(), 'nan_values': set(), 'exception_values': {''}}, ' Init_Win_bytes_backward': {'inf_count': 0, 'nan_count': 0, 'neg_count': 1441552, 'exception_count': 288602, 'inf_values': set(), 'nan_values': set(), 'exception_values': {''}}, ' act_data_pkt_fwd': {'inf_count': 0, 'nan_count': 0, 'neg_count': 0, 'exception_count': 288602, 'inf_values': set(), 'nan_values': set(), 'exception_values': {''}}, ' min_seg_size_forward': {'inf_count': 0, 'nan_count': 0, 'neg_count': 35, 'exception_count': 288602, 'inf_values': set(), 'nan_values': set(), 'exception_values': {''}}, 'Active Mean': {'inf_count': 0, 'nan_count': 0, 'neg_count': 0, 'exception_count': 288602, 'inf_values': set(), 'nan_values': set(), 'exception_values': {''}}, ' Active Std': {'inf_count': 0, 'nan_count': 0, 'neg_count': 0, 'exception_count': 288602, 'inf_values': set(), 'nan_values': set(), 'exception_values': {''}}, ' Active Max': {'inf_count': 0, 'nan_count': 0, 'neg_count': 0, 'exception_count': 288602, 'inf_values': set(), 'nan_values': set(), 'exception_values': {''}}, ' Active Min': {'inf_count': 0, 'nan_count': 0, 'neg_count': 0, 'exception_count': 288602, 'inf_values': set(), 'nan_values': set(), 'exception_values': {''}}, 'Idle Mean': {'inf_count': 0, 'nan_count': 0, 'neg_count': 0, 'exception_count': 288602, 'inf_values': set(), 'nan_values': set(), 'exception_values': {''}}, ' Idle Std': {'inf_count': 0, 'nan_count': 0, 'neg_count': 0, 'exception_count': 288602, 'inf_values': set(), 'nan_values': set(), 'exception_values': {''}}, ' Idle Max': {'inf_count': 0, 'nan_count': 0, 'neg_count': 0, 'exception_count': 288602, 'inf_values': set(), 'nan_values': set(), 'exception_values': {''}}, ' Idle Min': {'inf_count': 0, 'nan_count': 0, 'neg_count': 0, 'exception_count': 288602, 'inf_values': set(), 'nan_values': set(), 'exception_values': {''}}}, {'lines_with_nan': 0, 'lines_with_inf': 2867, 'lines_with_neg': 1444427, 'lines_with_exception': 288602, 'total_lines': 3119345})\n",
      "[' Flow Duration', 'Flow Bytes/s', ' Flow Packets/s', ' Flow IAT Mean', ' Flow IAT Max', ' Flow IAT Min', ' Fwd IAT Min', ' Fwd Header Length', ' Bwd Header Length', 'Init_Win_bytes_forward', ' Init_Win_bytes_backward', ' min_seg_size_forward']\n"
     ]
    }
   ],
   "source": [
    "value_analysis = analyze(\n",
    "    [\n",
    "        '../../data/Friday-WorkingHours-Afternoon-DDos.pcap_ISCX.csv',\n",
    "        '../../data/Friday-WorkingHours-Afternoon-PortScan.pcap_ISCX.csv',\n",
    "        '../../data/Friday-WorkingHours-Morning.pcap_ISCX.csv',\n",
    "        '../../data/Monday-WorkingHours.pcap_ISCX.csv',\n",
    "        '../../data/Thursday-WorkingHours-Afternoon-Infilteration.pcap_ISCX.csv',\n",
    "        '../../data/Thursday-WorkingHours-Morning-WebAttacks.pcap_ISCX.csv',\n",
    "        '../../data/Tuesday-WorkingHours.pcap_ISCX.csv',\n",
    "        '../../data/Wednesday-workingHours.pcap_ISCX.csv'\n",
    "    ],\n",
    "    headers,\n",
    "    gen_analysis_dic(headers),\n",
    "    gen_general_stats()\n",
    ")\n",
    "\n",
    "print(value_analysis)\n",
    "fields_with_negative = [ \n",
    "    field for field in value_analysis[0] if value_analysis[0][field]['neg_count'] > 0\n",
    "]\n",
    "print(fields_with_negative)"
   ]
  },
  {
   "cell_type": "code",
   "execution_count": 7,
   "id": "5e72b816-c2fa-47b5-a7b2-1dad04c998a1",
   "metadata": {},
   "outputs": [
    {
     "name": "stdout",
     "output_type": "stream",
     "text": [
      "({' Protocol': {'inf_count': 0, 'nan_count': 0, 'neg_count': 0, 'exception_count': 288602, 'inf_values': set(), 'nan_values': set(), 'exception_values': {''}}, ' Flow Duration': {'inf_count': 0, 'nan_count': 0, 'neg_count': 115, 'exception_count': 288602, 'inf_values': set(), 'nan_values': set(), 'exception_values': {''}}, ' Total Fwd Packets': {'inf_count': 0, 'nan_count': 0, 'neg_count': 0, 'exception_count': 288602, 'inf_values': set(), 'nan_values': set(), 'exception_values': {''}}, ' Total Backward Packets': {'inf_count': 0, 'nan_count': 0, 'neg_count': 0, 'exception_count': 288602, 'inf_values': set(), 'nan_values': set(), 'exception_values': {''}}, 'Total Length of Fwd Packets': {'inf_count': 0, 'nan_count': 0, 'neg_count': 0, 'exception_count': 288602, 'inf_values': set(), 'nan_values': set(), 'exception_values': {''}}, ' Total Length of Bwd Packets': {'inf_count': 0, 'nan_count': 0, 'neg_count': 0, 'exception_count': 288602, 'inf_values': set(), 'nan_values': set(), 'exception_values': {''}}, ' Fwd Packet Length Max': {'inf_count': 0, 'nan_count': 0, 'neg_count': 0, 'exception_count': 288602, 'inf_values': set(), 'nan_values': set(), 'exception_values': {''}}, ' Fwd Packet Length Min': {'inf_count': 0, 'nan_count': 0, 'neg_count': 0, 'exception_count': 288602, 'inf_values': set(), 'nan_values': set(), 'exception_values': {''}}, ' Fwd Packet Length Mean': {'inf_count': 0, 'nan_count': 0, 'neg_count': 0, 'exception_count': 288602, 'inf_values': set(), 'nan_values': set(), 'exception_values': {''}}, ' Fwd Packet Length Std': {'inf_count': 0, 'nan_count': 0, 'neg_count': 0, 'exception_count': 288602, 'inf_values': set(), 'nan_values': set(), 'exception_values': {''}}, 'Bwd Packet Length Max': {'inf_count': 0, 'nan_count': 0, 'neg_count': 0, 'exception_count': 288602, 'inf_values': set(), 'nan_values': set(), 'exception_values': {''}}, ' Bwd Packet Length Min': {'inf_count': 0, 'nan_count': 0, 'neg_count': 0, 'exception_count': 288602, 'inf_values': set(), 'nan_values': set(), 'exception_values': {''}}, ' Bwd Packet Length Mean': {'inf_count': 0, 'nan_count': 0, 'neg_count': 0, 'exception_count': 288602, 'inf_values': set(), 'nan_values': set(), 'exception_values': {''}}, ' Bwd Packet Length Std': {'inf_count': 0, 'nan_count': 0, 'neg_count': 0, 'exception_count': 288602, 'inf_values': set(), 'nan_values': set(), 'exception_values': {''}}, 'Flow Bytes/s': {'inf_count': 1509, 'nan_count': 0, 'neg_count': 85, 'exception_count': 288602, 'inf_values': {'Infinity'}, 'nan_values': set(), 'exception_values': {''}}, ' Flow Packets/s': {'inf_count': 2867, 'nan_count': 0, 'neg_count': 115, 'exception_count': 288602, 'inf_values': {'Infinity'}, 'nan_values': set(), 'exception_values': {''}}, ' Flow IAT Mean': {'inf_count': 0, 'nan_count': 0, 'neg_count': 115, 'exception_count': 288602, 'inf_values': set(), 'nan_values': set(), 'exception_values': {''}}, ' Flow IAT Std': {'inf_count': 0, 'nan_count': 0, 'neg_count': 0, 'exception_count': 288602, 'inf_values': set(), 'nan_values': set(), 'exception_values': {''}}, ' Flow IAT Max': {'inf_count': 0, 'nan_count': 0, 'neg_count': 115, 'exception_count': 288602, 'inf_values': set(), 'nan_values': set(), 'exception_values': {''}}, ' Flow IAT Min': {'inf_count': 0, 'nan_count': 0, 'neg_count': 2891, 'exception_count': 288602, 'inf_values': set(), 'nan_values': set(), 'exception_values': {''}}, 'Fwd IAT Total': {'inf_count': 0, 'nan_count': 0, 'neg_count': 0, 'exception_count': 288602, 'inf_values': set(), 'nan_values': set(), 'exception_values': {''}}, ' Fwd IAT Mean': {'inf_count': 0, 'nan_count': 0, 'neg_count': 0, 'exception_count': 288602, 'inf_values': set(), 'nan_values': set(), 'exception_values': {''}}, ' Fwd IAT Std': {'inf_count': 0, 'nan_count': 0, 'neg_count': 0, 'exception_count': 288602, 'inf_values': set(), 'nan_values': set(), 'exception_values': {''}}, ' Fwd IAT Max': {'inf_count': 0, 'nan_count': 0, 'neg_count': 0, 'exception_count': 288602, 'inf_values': set(), 'nan_values': set(), 'exception_values': {''}}, ' Fwd IAT Min': {'inf_count': 0, 'nan_count': 0, 'neg_count': 17, 'exception_count': 288602, 'inf_values': set(), 'nan_values': set(), 'exception_values': {''}}, 'Bwd IAT Total': {'inf_count': 0, 'nan_count': 0, 'neg_count': 0, 'exception_count': 288602, 'inf_values': set(), 'nan_values': set(), 'exception_values': {''}}, ' Bwd IAT Mean': {'inf_count': 0, 'nan_count': 0, 'neg_count': 0, 'exception_count': 288602, 'inf_values': set(), 'nan_values': set(), 'exception_values': {''}}, ' Bwd IAT Std': {'inf_count': 0, 'nan_count': 0, 'neg_count': 0, 'exception_count': 288602, 'inf_values': set(), 'nan_values': set(), 'exception_values': {''}}, ' Bwd IAT Max': {'inf_count': 0, 'nan_count': 0, 'neg_count': 0, 'exception_count': 288602, 'inf_values': set(), 'nan_values': set(), 'exception_values': {''}}, ' Bwd IAT Min': {'inf_count': 0, 'nan_count': 0, 'neg_count': 0, 'exception_count': 288602, 'inf_values': set(), 'nan_values': set(), 'exception_values': {''}}, 'Fwd PSH Flags': {'inf_count': 0, 'nan_count': 0, 'neg_count': 0, 'exception_count': 288602, 'inf_values': set(), 'nan_values': set(), 'exception_values': {''}}, ' Bwd PSH Flags': {'inf_count': 0, 'nan_count': 0, 'neg_count': 0, 'exception_count': 288602, 'inf_values': set(), 'nan_values': set(), 'exception_values': {''}}, ' Fwd URG Flags': {'inf_count': 0, 'nan_count': 0, 'neg_count': 0, 'exception_count': 288602, 'inf_values': set(), 'nan_values': set(), 'exception_values': {''}}, ' Bwd URG Flags': {'inf_count': 0, 'nan_count': 0, 'neg_count': 0, 'exception_count': 288602, 'inf_values': set(), 'nan_values': set(), 'exception_values': {''}}, ' Fwd Header Length': {'inf_count': 0, 'nan_count': 0, 'neg_count': 70, 'exception_count': 577204, 'inf_values': set(), 'nan_values': set(), 'exception_values': {''}}, ' Bwd Header Length': {'inf_count': 0, 'nan_count': 0, 'neg_count': 22, 'exception_count': 288602, 'inf_values': set(), 'nan_values': set(), 'exception_values': {''}}, 'Fwd Packets/s': {'inf_count': 0, 'nan_count': 0, 'neg_count': 0, 'exception_count': 288602, 'inf_values': set(), 'nan_values': set(), 'exception_values': {''}}, ' Bwd Packets/s': {'inf_count': 0, 'nan_count': 0, 'neg_count': 0, 'exception_count': 288602, 'inf_values': set(), 'nan_values': set(), 'exception_values': {''}}, ' Min Packet Length': {'inf_count': 0, 'nan_count': 0, 'neg_count': 0, 'exception_count': 288602, 'inf_values': set(), 'nan_values': set(), 'exception_values': {''}}, ' Max Packet Length': {'inf_count': 0, 'nan_count': 0, 'neg_count': 0, 'exception_count': 288602, 'inf_values': set(), 'nan_values': set(), 'exception_values': {''}}, ' Packet Length Mean': {'inf_count': 0, 'nan_count': 0, 'neg_count': 0, 'exception_count': 288602, 'inf_values': set(), 'nan_values': set(), 'exception_values': {''}}, ' Packet Length Std': {'inf_count': 0, 'nan_count': 0, 'neg_count': 0, 'exception_count': 288602, 'inf_values': set(), 'nan_values': set(), 'exception_values': {''}}, ' Packet Length Variance': {'inf_count': 0, 'nan_count': 0, 'neg_count': 0, 'exception_count': 288602, 'inf_values': set(), 'nan_values': set(), 'exception_values': {''}}, 'FIN Flag Count': {'inf_count': 0, 'nan_count': 0, 'neg_count': 0, 'exception_count': 288602, 'inf_values': set(), 'nan_values': set(), 'exception_values': {''}}, ' SYN Flag Count': {'inf_count': 0, 'nan_count': 0, 'neg_count': 0, 'exception_count': 288602, 'inf_values': set(), 'nan_values': set(), 'exception_values': {''}}, ' RST Flag Count': {'inf_count': 0, 'nan_count': 0, 'neg_count': 0, 'exception_count': 288602, 'inf_values': set(), 'nan_values': set(), 'exception_values': {''}}, ' PSH Flag Count': {'inf_count': 0, 'nan_count': 0, 'neg_count': 0, 'exception_count': 288602, 'inf_values': set(), 'nan_values': set(), 'exception_values': {''}}, ' ACK Flag Count': {'inf_count': 0, 'nan_count': 0, 'neg_count': 0, 'exception_count': 288602, 'inf_values': set(), 'nan_values': set(), 'exception_values': {''}}, ' URG Flag Count': {'inf_count': 0, 'nan_count': 0, 'neg_count': 0, 'exception_count': 288602, 'inf_values': set(), 'nan_values': set(), 'exception_values': {''}}, ' CWE Flag Count': {'inf_count': 0, 'nan_count': 0, 'neg_count': 0, 'exception_count': 288602, 'inf_values': set(), 'nan_values': set(), 'exception_values': {''}}, ' ECE Flag Count': {'inf_count': 0, 'nan_count': 0, 'neg_count': 0, 'exception_count': 288602, 'inf_values': set(), 'nan_values': set(), 'exception_values': {''}}, ' Down/Up Ratio': {'inf_count': 0, 'nan_count': 0, 'neg_count': 0, 'exception_count': 288602, 'inf_values': set(), 'nan_values': set(), 'exception_values': {''}}, ' Average Packet Size': {'inf_count': 0, 'nan_count': 0, 'neg_count': 0, 'exception_count': 288602, 'inf_values': set(), 'nan_values': set(), 'exception_values': {''}}, ' Avg Fwd Segment Size': {'inf_count': 0, 'nan_count': 0, 'neg_count': 0, 'exception_count': 288602, 'inf_values': set(), 'nan_values': set(), 'exception_values': {''}}, ' Avg Bwd Segment Size': {'inf_count': 0, 'nan_count': 0, 'neg_count': 0, 'exception_count': 288602, 'inf_values': set(), 'nan_values': set(), 'exception_values': {''}}, 'Fwd Avg Bytes/Bulk': {'inf_count': 0, 'nan_count': 0, 'neg_count': 0, 'exception_count': 288602, 'inf_values': set(), 'nan_values': set(), 'exception_values': {''}}, ' Fwd Avg Packets/Bulk': {'inf_count': 0, 'nan_count': 0, 'neg_count': 0, 'exception_count': 288602, 'inf_values': set(), 'nan_values': set(), 'exception_values': {''}}, ' Fwd Avg Bulk Rate': {'inf_count': 0, 'nan_count': 0, 'neg_count': 0, 'exception_count': 288602, 'inf_values': set(), 'nan_values': set(), 'exception_values': {''}}, ' Bwd Avg Bytes/Bulk': {'inf_count': 0, 'nan_count': 0, 'neg_count': 0, 'exception_count': 288602, 'inf_values': set(), 'nan_values': set(), 'exception_values': {''}}, ' Bwd Avg Packets/Bulk': {'inf_count': 0, 'nan_count': 0, 'neg_count': 0, 'exception_count': 288602, 'inf_values': set(), 'nan_values': set(), 'exception_values': {''}}, 'Bwd Avg Bulk Rate': {'inf_count': 0, 'nan_count': 0, 'neg_count': 0, 'exception_count': 288602, 'inf_values': set(), 'nan_values': set(), 'exception_values': {''}}, 'Subflow Fwd Packets': {'inf_count': 0, 'nan_count': 0, 'neg_count': 0, 'exception_count': 288602, 'inf_values': set(), 'nan_values': set(), 'exception_values': {''}}, ' Subflow Fwd Bytes': {'inf_count': 0, 'nan_count': 0, 'neg_count': 0, 'exception_count': 288602, 'inf_values': set(), 'nan_values': set(), 'exception_values': {''}}, ' Subflow Bwd Packets': {'inf_count': 0, 'nan_count': 0, 'neg_count': 0, 'exception_count': 288602, 'inf_values': set(), 'nan_values': set(), 'exception_values': {''}}, ' Subflow Bwd Bytes': {'inf_count': 0, 'nan_count': 0, 'neg_count': 0, 'exception_count': 288602, 'inf_values': set(), 'nan_values': set(), 'exception_values': {''}}, 'Init_Win_bytes_forward': {'inf_count': 0, 'nan_count': 0, 'neg_count': 1001189, 'exception_count': 288602, 'inf_values': set(), 'nan_values': set(), 'exception_values': {''}}, ' Init_Win_bytes_backward': {'inf_count': 0, 'nan_count': 0, 'neg_count': 1441552, 'exception_count': 288602, 'inf_values': set(), 'nan_values': set(), 'exception_values': {''}}, ' act_data_pkt_fwd': {'inf_count': 0, 'nan_count': 0, 'neg_count': 0, 'exception_count': 288602, 'inf_values': set(), 'nan_values': set(), 'exception_values': {''}}, ' min_seg_size_forward': {'inf_count': 0, 'nan_count': 0, 'neg_count': 35, 'exception_count': 288602, 'inf_values': set(), 'nan_values': set(), 'exception_values': {''}}, 'Active Mean': {'inf_count': 0, 'nan_count': 0, 'neg_count': 0, 'exception_count': 288602, 'inf_values': set(), 'nan_values': set(), 'exception_values': {''}}, ' Active Std': {'inf_count': 0, 'nan_count': 0, 'neg_count': 0, 'exception_count': 288602, 'inf_values': set(), 'nan_values': set(), 'exception_values': {''}}, ' Active Max': {'inf_count': 0, 'nan_count': 0, 'neg_count': 0, 'exception_count': 288602, 'inf_values': set(), 'nan_values': set(), 'exception_values': {''}}, ' Active Min': {'inf_count': 0, 'nan_count': 0, 'neg_count': 0, 'exception_count': 288602, 'inf_values': set(), 'nan_values': set(), 'exception_values': {''}}, 'Idle Mean': {'inf_count': 0, 'nan_count': 0, 'neg_count': 0, 'exception_count': 288602, 'inf_values': set(), 'nan_values': set(), 'exception_values': {''}}, ' Idle Std': {'inf_count': 0, 'nan_count': 0, 'neg_count': 0, 'exception_count': 288602, 'inf_values': set(), 'nan_values': set(), 'exception_values': {''}}, ' Idle Max': {'inf_count': 0, 'nan_count': 0, 'neg_count': 0, 'exception_count': 288602, 'inf_values': set(), 'nan_values': set(), 'exception_values': {''}}, ' Idle Min': {'inf_count': 0, 'nan_count': 0, 'neg_count': 0, 'exception_count': 288602, 'inf_values': set(), 'nan_values': set(), 'exception_values': {''}}}, {'lines_with_nan': 0, 'lines_with_inf': 2867, 'lines_with_neg': 1444427, 'lines_with_exception': 288602, 'total_lines': 3119345})\n"
     ]
    }
   ],
   "source": [
    "print(\n",
    "    analyze(\n",
    "        [\n",
    "            '../../data/Grouped_All.csv'\n",
    "        ],\n",
    "        headers,\n",
    "        gen_analysis_dic(headers),\n",
    "        gen_general_stats()\n",
    "    )\n",
    ")"
   ]
  },
  {
   "cell_type": "code",
   "execution_count": 7,
   "id": "f4e19342-651f-4c94-ad47-8f538e4a2aca",
   "metadata": {},
   "outputs": [
    {
     "name": "stdout",
     "output_type": "stream",
     "text": [
      "Labels em ../../data/Tuesday-WorkingHours.pcap_ISCX.processed.csv: {'BENIGN', 'FTP-Patator', 'SSH-Patator'} , line count: 188714\n",
      "Labels em ../../data/Wednesday-workingHours.pcap_ISCX.processed.csv: {'DoS slowloris', 'Heartbleed', 'DoS GoldenEye', 'DoS Slowhttptest', 'BENIGN', 'DoS Hulk'} , line count: 356284\n",
      "Labels em ../../data/Thursday-WorkingHours-Morning-WebAttacks.pcap_ISCX.processed.csv: {'BENIGN', 'Web Attack  Sql Injection', 'Web Attack  XSS', 'Web Attack  Brute Force'} , line count: 67662\n",
      "Labels em ../../data/Thursday-WorkingHours-Afternoon-Infilteration.pcap_ISCX.processed.csv: {'BENIGN', 'Infiltration'} , line count: 123870\n",
      "Labels em ../../data/Friday-WorkingHours-Morning.pcap_ISCX.processed.csv: {'Bot', 'BENIGN'} , line count: 72330\n",
      "Labels em ../../data/Friday-WorkingHours-Afternoon-DDos.pcap_ISCX.processed.csv: {'BENIGN', 'DDoS'} , line count: 137329\n",
      "Labels em ../../data/Friday-WorkingHours-Afternoon-PortScan.pcap_ISCX.processed.csv: {'PortScan', 'BENIGN'} , line count: 209033\n"
     ]
    }
   ],
   "source": [
    "processed_files = [\n",
    "    \"../../data/Tuesday-WorkingHours.pcap_ISCX.processed.csv\",\n",
    "    \"../../data/Wednesday-workingHours.pcap_ISCX.processed.csv\",\n",
    "    \"../../data/Thursday-WorkingHours-Morning-WebAttacks.pcap_ISCX.processed.csv\",\n",
    "    \"../../data/Thursday-WorkingHours-Afternoon-Infilteration.pcap_ISCX.processed.csv\",\n",
    "    \"../../data/Friday-WorkingHours-Morning.pcap_ISCX.processed.csv\",\n",
    "    \"../../data/Friday-WorkingHours-Afternoon-DDos.pcap_ISCX.processed.csv\",\n",
    "    \"../../data/Friday-WorkingHours-Afternoon-PortScan.pcap_ISCX.processed.csv\"\n",
    "]\n",
    "\n",
    "for file_path in processed_files:\n",
    "    with open(file_path) as file:\n",
    "        lc = 0\n",
    "        csv_reader = csv.reader(file)\n",
    "        next(csv_reader)\n",
    "        labels = set()\n",
    "        \n",
    "        for row in csv_reader:\n",
    "            lc += 1\n",
    "            labels.add(row[-1])\n",
    "        \n",
    "        print(\"Labels em\", file_path+\":\", labels, \", line count:\" )"
   ]
  },
  {
   "cell_type": "code",
   "execution_count": null,
   "id": "a47bd6ae-066d-4efd-9a06-53f8fcd832bd",
   "metadata": {},
   "outputs": [],
   "source": []
  }
 ],
 "metadata": {
  "kernelspec": {
   "display_name": "Python 3 (ipykernel)",
   "language": "python",
   "name": "python3"
  },
  "language_info": {
   "codemirror_mode": {
    "name": "ipython",
    "version": 3
   },
   "file_extension": ".py",
   "mimetype": "text/x-python",
   "name": "python",
   "nbconvert_exporter": "python",
   "pygments_lexer": "ipython3",
   "version": "3.10.4"
  }
 },
 "nbformat": 4,
 "nbformat_minor": 5
}
