{
 "cells": [
  {
   "cell_type": "code",
   "execution_count": 1,
   "id": "0be4ae10-ca6b-4fae-88a6-c12c85566b07",
   "metadata": {},
   "outputs": [],
   "source": [
    "import os\n",
    "import sys\n",
    "module_path = os.path.abspath(os.path.join('../..'))\n",
    "if module_path not in sys.path:\n",
    "    sys.path.append(module_path)"
   ]
  },
  {
   "cell_type": "markdown",
   "id": "be0bf1ea-dd1d-4816-b319-95a47c3525f1",
   "metadata": {},
   "source": [
    "# Preprocessamento \n",
    "\n",
    "Aqui foi executado o preprocessamento (conforme conversado na reunião de 20/06/22)\n",
    "\n",
    "---\n",
    "\n",
    "Foram analisados os seguintes campos:\n",
    "\n",
    "```\n",
    "'Protocol', ' Flow Duration', ' Total Fwd Packets', ' Total Backward Packets', 'Total Length of Fwd Packets', ' Total Length of Bwd Packets', ' Fwd Packet Length Max', ' Fwd Packet Length Min', ' Fwd Packet Length Mean', ' Fwd Packet Length Std', 'Bwd Packet Length Max', ' Bwd Packet Length Min', ' Bwd Packet Length Mean', ' Bwd Packet Length Std', 'Flow Bytes/s', ' Flow Packets/s', ' Flow IAT Mean', ' Flow IAT Std', ' Flow IAT Max', ' Flow IAT Min', 'Fwd IAT Total', ' Fwd IAT Mean', ' Fwd IAT Std', ' Fwd IAT Max', ' Fwd IAT Min', 'Bwd IAT Total', ' Bwd IAT Mean', ' Bwd IAT Std', ' Bwd IAT Max', ' Bwd IAT Min', 'Fwd PSH Flags', ' Bwd PSH Flags', ' Fwd URG Flags', ' Bwd URG Flags', ' Fwd Header Length', ' Bwd Header Length', 'Fwd Packets/s', ' Bwd Packets/s', ' Min Packet Length', ' Max Packet Length', ' Packet Length Mean', ' Packet Length Std', ' Packet Length Variance', 'FIN Flag Count', ' SYN Flag Count', ' RST Flag Count', ' PSH Flag Count', ' ACK Flag Count', ' URG Flag Count', ' CWE Flag Count', ' ECE Flag Count', ' Down/Up Ratio', ' Average Packet Size', ' Avg Fwd Segment Size', ' Avg Bwd Segment Size', ' Fwd Header Length', 'Fwd Avg Bytes/Bulk', ' Fwd Avg Packets/Bulk', ' Fwd Avg Bulk Rate', ' Bwd Avg Bytes/Bulk', ' Bwd Avg Packets/Bulk', 'Bwd Avg Bulk Rate', 'Subflow Fwd Packets', ' Subflow Fwd Bytes', ' Subflow Bwd Packets', ' Subflow Bwd Bytes', 'Init_Win_bytes_forward', ' Init_Win_bytes_backward', ' act_data_pkt_fwd', ' min_seg_size_forward', 'Active Mean', ' Active Std', ' Active Max', ' Active Min', 'Idle Mean', ' Idle Std', ' Idle Max', ' Idle Min'\n",
    "```\n",
    "\n",
    "Foram descartadas todas as linhas que possuiam um valor não numérico para esses campos (por exemplo, valores em branco) ou um valor que convertido daria `Inf`, `NaN` ou negativo.\n",
    " \n",
    "Obs: os campos `'Flow ID', ' Source IP', ' Source Port', ' Destination IP', ' Destination Port'` não foram analisados no preprocessamento e são copiados como estão (eles são descartados no treino/teste).\n",
    "\n",
    "---\n",
    "\n",
    "No output da célula seguinte é possível ver quantas linhas foram descartadas para cada arquivo.\n",
    "\n",
    "O código do preprocessamento pode ser visto em [ic/data_treatment/preprocess.py](../ic/data_treatment/preprocess.py)\n"
   ]
  },
  {
   "cell_type": "code",
   "execution_count": 2,
   "id": "ac915c5b-f501-4f37-b28e-89a7c40d37bf",
   "metadata": {},
   "outputs": [
    {
     "name": "stdout",
     "output_type": "stream",
     "text": [
      "Processando arquivo ../../data/Tuesday-WorkingHours.pcap_ISCX.csv\n",
      "Arquivo processado, resultado em ../../data/Tuesday-WorkingHours.pcap_ISCX.processed.csv\n",
      "Total de linhas: 445909 , ignoradas: 257195 ( 57.67880890495594 % )\n",
      "\n",
      "Processando arquivo ../../data/Wednesday-workingHours.pcap_ISCX.csv\n",
      "Arquivo processado, resultado em ../../data/Wednesday-workingHours.pcap_ISCX.processed.csv\n",
      "Total de linhas: 692703 , ignoradas: 336419 ( 48.566124298581066 % )\n",
      "\n",
      "Processando arquivo ../../data/Thursday-WorkingHours-Morning-WebAttacks.pcap_ISCX.csv\n",
      "Arquivo processado, resultado em ../../data/Thursday-WorkingHours-Morning-WebAttacks.pcap_ISCX.processed.csv\n",
      "Total de linhas: 458968 , ignoradas: 391306 ( 85.25779575046626 % )\n",
      "\n",
      "Processando arquivo ../../data/Thursday-WorkingHours-Afternoon-Infilteration.pcap_ISCX.csv\n",
      "Arquivo processado, resultado em ../../data/Thursday-WorkingHours-Afternoon-Infilteration.pcap_ISCX.processed.csv\n",
      "Total de linhas: 288602 , ignoradas: 164732 ( 57.079299519753846 % )\n",
      "\n",
      "Processando arquivo ../../data/Friday-WorkingHours-Morning.pcap_ISCX.csv\n",
      "Arquivo processado, resultado em ../../data/Friday-WorkingHours-Morning.pcap_ISCX.processed.csv\n",
      "Total de linhas: 191033 , ignoradas: 118703 ( 62.137431752629126 % )\n",
      "\n",
      "Processando arquivo ../../data/Friday-WorkingHours-Afternoon-DDos.pcap_ISCX.csv\n",
      "Arquivo processado, resultado em ../../data/Friday-WorkingHours-Afternoon-DDos.pcap_ISCX.processed.csv\n",
      "Total de linhas: 225745 , ignoradas: 88416 ( 39.16631597599061 % )\n",
      "\n",
      "Processando arquivo ../../data/Friday-WorkingHours-Afternoon-PortScan.pcap_ISCX.csv\n",
      "Arquivo processado, resultado em ../../data/Friday-WorkingHours-Afternoon-PortScan.pcap_ISCX.processed.csv\n",
      "Total de linhas: 286467 , ignoradas: 77434 ( 27.03068765337718 % )\n",
      "\n"
     ]
    }
   ],
   "source": [
    "from ic.data_treatment.preprocess import preprocess\n",
    "\n",
    "preprocess([\n",
    "    \"../../data/Tuesday-WorkingHours.pcap_ISCX.csv\",\n",
    "    \"../../data/Wednesday-workingHours.pcap_ISCX.csv\",\n",
    "    \"../../data/Thursday-WorkingHours-Morning-WebAttacks.pcap_ISCX.csv\",\n",
    "    \"../../data/Thursday-WorkingHours-Afternoon-Infilteration.pcap_ISCX.csv\",\n",
    "    \"../../data/Friday-WorkingHours-Morning.pcap_ISCX.csv\",\n",
    "    \"../../data/Friday-WorkingHours-Afternoon-DDos.pcap_ISCX.csv\",\n",
    "    \"../../data/Friday-WorkingHours-Afternoon-PortScan.pcap_ISCX.csv\"\n",
    "])"
   ]
  },
  {
   "cell_type": "markdown",
   "id": "9d5724fa-1010-45d5-839b-831ca9dae96b",
   "metadata": {},
   "source": [
    "---\n",
    "\n",
    "Também conforme conversado em 20/06, os tipos de ataques contidos em cada arquivo são mutualmente exclusivos (as labels que cada um contem podem ser vistas em [exploration.ipynb](./exploration.ipynb) (atualmente na última célula). \n",
    "\n",
    "Portanto, cada aquivo foi dividido em treino/teste (50% para cada) para que possamos gerar diferentes modelos para cada período (e tipos de ataque específicos):"
   ]
  },
  {
   "cell_type": "code",
   "execution_count": null,
   "id": "a65c83c2-1047-4bb7-815a-f5f82ac6ae60",
   "metadata": {},
   "outputs": [],
   "source": [
    "from ic.data_treatment.split_training import split_with_suffix\n",
    "\n",
    "processed_files = [\n",
    "    \"../../data/Tuesday-WorkingHours.pcap_ISCX.processed.csv\",\n",
    "    \"../../data/Wednesday-workingHours.pcap_ISCX.processed.csv\",\n",
    "    \"../../data/Thursday-WorkingHours-Morning-WebAttacks.pcap_ISCX.processed.csv\",\n",
    "    \"../../data/Thursday-WorkingHours-Afternoon-Infilteration.pcap_ISCX.processed.csv\",\n",
    "    \"../../data/Friday-WorkingHours-Morning.pcap_ISCX.processed.csv\",\n",
    "    \"../../data/Friday-WorkingHours-Afternoon-DDos.pcap_ISCX.processed.csv\",\n",
    "    \"../../data/Friday-WorkingHours-Afternoon-PortScan.pcap_ISCX.processed.csv\"\n",
    "]\n",
    "\n",
    "for path in processed_files:\n",
    "    split_with_suffix(path, 0.5)"
   ]
  }
 ],
 "metadata": {
  "kernelspec": {
   "display_name": "Python 3 (ipykernel)",
   "language": "python",
   "name": "python3"
  },
  "language_info": {
   "codemirror_mode": {
    "name": "ipython",
    "version": 3
   },
   "file_extension": ".py",
   "mimetype": "text/x-python",
   "name": "python",
   "nbconvert_exporter": "python",
   "pygments_lexer": "ipython3",
   "version": "3.10.4"
  }
 },
 "nbformat": 4,
 "nbformat_minor": 5
}
