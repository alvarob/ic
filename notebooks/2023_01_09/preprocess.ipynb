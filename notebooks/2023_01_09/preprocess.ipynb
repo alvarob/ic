{
 "cells": [
  {
   "cell_type": "code",
   "execution_count": 5,
   "id": "b4aa8db2-c64a-495d-90c1-c02169b3be0e",
   "metadata": {},
   "outputs": [],
   "source": [
    "import os\n",
    "import sys\n",
    "module_path = os.path.abspath(os.path.join('../..'))\n",
    "if module_path not in sys.path:\n",
    "    sys.path.append(module_path)\n",
    "    \n",
    "import warnings\n",
    "warnings.filterwarnings('ignore')"
   ]
  },
  {
   "cell_type": "code",
   "execution_count": 2,
   "id": "d3f94d90-a596-40bf-b125-011221a4410a",
   "metadata": {},
   "outputs": [],
   "source": [
    "import pandas as pd\n",
    "\n",
    "from ic.data_treatment.preprocess import cleaned_up_chunks, preprocess_and_join\n",
    "from ic import util"
   ]
  },
  {
   "cell_type": "raw",
   "id": "0545e835-8d64-4d35-ad1b-c0cd5c3cbaf5",
   "metadata": {},
   "source": [
    "def preprocess_for_novelty(\n",
    "    in_file_path, out_file_dir, suffix=\"processed\", n_examples=1000\n",
    "):\n",
    "    out_file = f'{out_file_dir}/{util.basename(in_file_path)}.{suffix}.csv'\n",
    "    print(out_file)\n",
    "    \n",
    "    chunks = cleaned_up_chunks(in_file_path)\n",
    "    chunk = next(chunks)\n",
    "    columns = chunk.columns.tolist()\n",
    "    dataframe = pd.DataFrame(columns=columns)\n",
    "    \n",
    "    examples_fulfilled = 0\n",
    "\n",
    "    while examples_fulfilled < n_examples:\n",
    "        for _, row in chunk.iterrows():\n",
    "            if int(row[-1]) == 0 or examples_fulfilled >= n_examples:\n",
    "                dataframe = dataframe.append(row)\n",
    "                examples_fulfilled += 1\n",
    "\n",
    "        try:\n",
    "            chunk = next(chunks)\n",
    "        except StopIteration:\n",
    "            break\n",
    "    \n",
    "    dataframe.to_csv(out_file, mode=\"w\", header=True, index=False)\n",
    "\n",
    "    for chunk in chunks:\n",
    "        chunk.to_csv(out_file, mode=\"a\", header=False, index=False)\n",
    "   "
   ]
  },
  {
   "cell_type": "code",
   "execution_count": 3,
   "id": "16fcee24-512b-4e8b-b527-da9d50365e69",
   "metadata": {},
   "outputs": [],
   "source": [
    "DATA_ROOT = '../../data/MachineLearningCVE'\n",
    "OUTPUT_ROOT = '../../data/2023_01_09'"
   ]
  },
  {
   "cell_type": "code",
   "execution_count": 4,
   "id": "e56964a2-4e51-45af-ad98-410cc870a847",
   "metadata": {},
   "outputs": [],
   "source": [
    "preprocess_and_join(\n",
    "    [ DATA_ROOT + '/Monday-WorkingHours.pcap_ISCX.csv'], \n",
    "    OUTPUT_ROOT + '/MondayOnly.preprocessed.csv'\n",
    ")\n",
    "\n",
    "preprocess_and_join([\n",
    "    DATA_ROOT + '/Tuesday-WorkingHours.pcap_ISCX.csv',\n",
    "    DATA_ROOT + '/Wednesday-workingHours.pcap_ISCX.csv',\n",
    "    DATA_ROOT + '/Thursday-WorkingHours-Morning-WebAttacks.pcap_ISCX.csv',\n",
    "    DATA_ROOT + '/Thursday-WorkingHours-Afternoon-Infilteration.pcap_ISCX.csv',\n",
    "    DATA_ROOT + '/Friday-WorkingHours-Morning.pcap_ISCX.csv',\n",
    "    DATA_ROOT + '/Friday-WorkingHours-Afternoon-DDos.pcap_ISCX.csv',\n",
    "    DATA_ROOT + '/Friday-WorkingHours-Afternoon-PortScan.pcap_ISCX.csv'\n",
    "],\n",
    "    OUTPUT_ROOT + '/AllExceptMonday.preprocessed.csv'\n",
    ")"
   ]
  }
 ],
 "metadata": {
  "kernelspec": {
   "display_name": "Python 3 (ipykernel)",
   "language": "python",
   "name": "python3"
  },
  "language_info": {
   "codemirror_mode": {
    "name": "ipython",
    "version": 3
   },
   "file_extension": ".py",
   "mimetype": "text/x-python",
   "name": "python",
   "nbconvert_exporter": "python",
   "pygments_lexer": "ipython3",
   "version": "3.8.10"
  }
 },
 "nbformat": 4,
 "nbformat_minor": 5
}
