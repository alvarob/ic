{
 "cells": [
  {
   "cell_type": "code",
   "execution_count": 1,
   "id": "4dbcf124-b793-4ef6-b911-7888d86d367d",
   "metadata": {},
   "outputs": [],
   "source": [
    "import os\n",
    "import sys\n",
    "module_path = os.path.abspath(os.path.join('../..'))\n",
    "if module_path not in sys.path:\n",
    "    sys.path.append(module_path)"
   ]
  },
  {
   "cell_type": "code",
   "execution_count": 2,
   "id": "9f8ce9e5-f58d-4855-9300-46f61256f785",
   "metadata": {},
   "outputs": [],
   "source": [
    "from river import anomaly, base, optim\n",
    "\n",
    "from ic.evaluation import process_evaluation"
   ]
  },
  {
   "cell_type": "code",
   "execution_count": 3,
   "id": "947e7960-2f14-4ce7-a4a4-29abd03f1957",
   "metadata": {},
   "outputs": [],
   "source": [
    "class SVM(base.Classifier):\n",
    "    def __init__(self, q, optimizer=None):\n",
    "        self.model = anomaly.QuantileFilter(\n",
    "            anomaly.OneClassSVM(optimizer=optimizer),\n",
    "            q\n",
    "        )\n",
    "        \n",
    "    def learn_one(self, x, y):\n",
    "        if y != 0:\n",
    "            return\n",
    "        self.model.learn_one(x)\n",
    "    \n",
    "    def predict_one(self, x):\n",
    "        score = self.model.score_one(x)\n",
    "        is_anomaly = self.model.classify(score)\n",
    "        return int(is_anomaly)\n",
    "    \n",
    "Q = 0.65"
   ]
  },
  {
   "cell_type": "code",
   "execution_count": 4,
   "id": "0f55e999-53cb-49df-87de-be65610ca275",
   "metadata": {},
   "outputs": [
    {
     "name": "stdout",
     "output_type": "stream",
     "text": [
      "Starting SVM - 18:35\n",
      "Took 0 mins\n",
      "\n"
     ]
    }
   ],
   "source": [
    "process_evaluation(\n",
    "    SVM(Q),\n",
    "    'SVM',\n",
    "    '../../data/2022_08_01/processed/Friday-WorkingHours-Afternoon-DDos.pcap_ISCX.processed.csv',\n",
    "    '2023_01_09'\n",
    ")"
   ]
  },
  {
   "cell_type": "code",
   "execution_count": 5,
   "id": "2dee2e0b-32a3-49bc-807b-45fd49147ce1",
   "metadata": {},
   "outputs": [
    {
     "name": "stdout",
     "output_type": "stream",
     "text": [
      "Starting SVM - 18:36\n",
      "Took 1 mins\n",
      "\n"
     ]
    }
   ],
   "source": [
    "process_evaluation(\n",
    "    SVM(Q),\n",
    "    'SVM',\n",
    "    '../../data/2022_08_01/processed/Tuesday-WorkingHours.pcap_ISCX.processed.csv',\n",
    "    '2023_01_09'\n",
    ")"
   ]
  },
  {
   "cell_type": "code",
   "execution_count": 6,
   "id": "ee00fa36-1096-468f-b96d-8c6836007c25",
   "metadata": {},
   "outputs": [
    {
     "name": "stdout",
     "output_type": "stream",
     "text": [
      "Starting SVM - 18:37\n",
      "Took 2 mins\n",
      "\n"
     ]
    }
   ],
   "source": [
    "process_evaluation(\n",
    "    SVM(Q),\n",
    "    'SVM',\n",
    "    '../../data/2022_08_01/processed/Wednesday-workingHours.pcap_ISCX.processed.csv',\n",
    "    '2023_01_09'\n",
    ")"
   ]
  },
  {
   "cell_type": "code",
   "execution_count": 7,
   "id": "8d21f97a-b2e7-4144-aaf6-19679116157e",
   "metadata": {},
   "outputs": [
    {
     "name": "stdout",
     "output_type": "stream",
     "text": [
      "Starting SVM - 18:39\n",
      "Took 0 mins\n",
      "\n"
     ]
    }
   ],
   "source": [
    "process_evaluation(\n",
    "    SVM(Q),\n",
    "    'SVM',\n",
    "    '../../data/2022_08_01/processed/Thursday-WorkingHours-Morning-WebAttacks.pcap_ISCX.processed.csv',\n",
    "    '2023_01_09'\n",
    ")"
   ]
  },
  {
   "cell_type": "code",
   "execution_count": 8,
   "id": "20461644-2836-4c10-b30d-b27da00f1e9d",
   "metadata": {},
   "outputs": [
    {
     "name": "stdout",
     "output_type": "stream",
     "text": [
      "Starting SVM - 18:40\n",
      "Took 0 mins\n",
      "\n"
     ]
    }
   ],
   "source": [
    "process_evaluation(\n",
    "    SVM(Q),\n",
    "    'SVM',\n",
    "    '../../data/2022_08_01/processed/Friday-WorkingHours-Afternoon-PortScan.pcap_ISCX.processed.csv',\n",
    "    '2023_01_09'\n",
    ")"
   ]
  },
  {
   "cell_type": "code",
   "execution_count": 9,
   "id": "26071800-ddb4-4700-a381-84f496f008ed",
   "metadata": {},
   "outputs": [
    {
     "name": "stdout",
     "output_type": "stream",
     "text": [
      "Starting SVM - 18:40\n",
      "Took 0 mins\n",
      "\n"
     ]
    }
   ],
   "source": [
    "process_evaluation(\n",
    "    SVM(Q),\n",
    "    'SVM',\n",
    "    '../../data/2022_08_01/processed/Friday-WorkingHours-Morning.pcap_ISCX.processed.csv',\n",
    "    '2023_01_09'\n",
    ")"
   ]
  },
  {
   "cell_type": "markdown",
   "id": "22a1fdfd-ecad-4247-b29b-edfe22f29ca5",
   "metadata": {},
   "source": [
    "---"
   ]
  },
  {
   "cell_type": "code",
   "execution_count": 10,
   "id": "e507c5df-e0b2-410d-9a70-7ac310e76bd8",
   "metadata": {},
   "outputs": [],
   "source": [
    "LR = 0.1"
   ]
  },
  {
   "cell_type": "code",
   "execution_count": 11,
   "id": "3b6f3698-4fee-48a1-aca8-96bf57a3ffe1",
   "metadata": {},
   "outputs": [
    {
     "name": "stdout",
     "output_type": "stream",
     "text": [
      "Starting SVM_SGD - 18:40\n",
      "Took 0 mins\n",
      "\n"
     ]
    }
   ],
   "source": [
    "process_evaluation(\n",
    "    SVM(Q, optimizer=optim.SGD(LR)),\n",
    "    'SVM_SGD',\n",
    "    '../../data/2022_08_01/processed/Friday-WorkingHours-Afternoon-DDos.pcap_ISCX.processed.csv',\n",
    "    '2023_01_09'\n",
    ")"
   ]
  },
  {
   "cell_type": "code",
   "execution_count": 12,
   "id": "1c4f5cda-3635-455d-a830-45ec5ea8da6f",
   "metadata": {},
   "outputs": [
    {
     "name": "stdout",
     "output_type": "stream",
     "text": [
      "Starting SVM_SGD - 18:41\n",
      "Took 1 mins\n",
      "\n"
     ]
    }
   ],
   "source": [
    "process_evaluation(\n",
    "    SVM(Q, optimizer=optim.SGD(LR)),\n",
    "    'SVM_SGD',\n",
    "    '../../data/2022_08_01/processed/Tuesday-WorkingHours.pcap_ISCX.processed.csv',\n",
    "    '2023_01_09'\n",
    ")"
   ]
  },
  {
   "cell_type": "code",
   "execution_count": 13,
   "id": "6cdf70f0-742b-4570-bb1f-80accd532ead",
   "metadata": {},
   "outputs": [
    {
     "name": "stdout",
     "output_type": "stream",
     "text": [
      "Starting SVM_SGD - 18:43\n",
      "Took 2 mins\n",
      "\n"
     ]
    }
   ],
   "source": [
    "process_evaluation(\n",
    "    SVM(Q, optimizer=optim.SGD(LR)),\n",
    "    'SVM_SGD',\n",
    "    '../../data/2022_08_01/processed/Wednesday-workingHours.pcap_ISCX.processed.csv',\n",
    "    '2023_01_09'\n",
    ")"
   ]
  },
  {
   "cell_type": "code",
   "execution_count": 14,
   "id": "df9092cf-e906-4db0-b2f9-74b2c3213c01",
   "metadata": {},
   "outputs": [
    {
     "name": "stdout",
     "output_type": "stream",
     "text": [
      "Starting SVM_SGD - 18:45\n",
      "Took 0 mins\n",
      "\n"
     ]
    }
   ],
   "source": [
    "process_evaluation(\n",
    "    SVM(Q, optimizer=optim.SGD(LR)),\n",
    "    'SVM_SGD',\n",
    "    '../../data/2022_08_01/processed/Thursday-WorkingHours-Morning-WebAttacks.pcap_ISCX.processed.csv',\n",
    "    '2023_01_09'\n",
    ")"
   ]
  },
  {
   "cell_type": "code",
   "execution_count": 15,
   "id": "733e917a-42eb-4256-9019-d4b7d1f68d3c",
   "metadata": {},
   "outputs": [
    {
     "name": "stdout",
     "output_type": "stream",
     "text": [
      "Starting SVM_SGD - 18:45\n",
      "Took 0 mins\n",
      "\n"
     ]
    }
   ],
   "source": [
    "process_evaluation(\n",
    "    SVM(Q, optimizer=optim.SGD(LR)),\n",
    "    'SVM_SGD',\n",
    "    '../../data/2022_08_01/processed/Friday-WorkingHours-Afternoon-PortScan.pcap_ISCX.processed.csv',\n",
    "    '2023_01_09'\n",
    ")"
   ]
  },
  {
   "cell_type": "code",
   "execution_count": 16,
   "id": "26ed70d7-6bdd-4420-ae2f-2bd2443b4e3a",
   "metadata": {},
   "outputs": [
    {
     "name": "stdout",
     "output_type": "stream",
     "text": [
      "Starting SVM_SGD - 18:46\n",
      "Took 0 mins\n",
      "\n"
     ]
    }
   ],
   "source": [
    "process_evaluation(\n",
    "    SVM(Q, optimizer=optim.SGD(LR)),\n",
    "    'SVM_SGD',\n",
    "    '../../data/2022_08_01/processed/Friday-WorkingHours-Morning.pcap_ISCX.processed.csv',\n",
    "    '2023_01_09'\n",
    ")"
   ]
  }
 ],
 "metadata": {
  "kernelspec": {
   "display_name": "Python 3 (ipykernel)",
   "language": "python",
   "name": "python3"
  },
  "language_info": {
   "codemirror_mode": {
    "name": "ipython",
    "version": 3
   },
   "file_extension": ".py",
   "mimetype": "text/x-python",
   "name": "python",
   "nbconvert_exporter": "python",
   "pygments_lexer": "ipython3",
   "version": "3.8.10"
  }
 },
 "nbformat": 4,
 "nbformat_minor": 5
}
