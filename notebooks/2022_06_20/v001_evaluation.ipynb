{
 "cells": [
  {
   "cell_type": "code",
   "execution_count": 1,
   "id": "4c2c00aa-1c12-4ef6-b5cc-fac2dba62b13",
   "metadata": {},
   "outputs": [],
   "source": [
    "import os\n",
    "import sys\n",
    "module_path = os.path.abspath(os.path.join('../../..'))\n",
    "if module_path not in sys.path:\n",
    "    sys.path.append(module_path)\n",
    "\n",
    "import warnings\n",
    "warnings.filterwarnings('ignore')\n",
    "\n",
    "import joblib\n",
    "\n",
    "from ic.evaluation import evaluate\n",
    "from ic.models.ensemble import Ensemble"
   ]
  },
  {
   "cell_type": "markdown",
   "id": "4b2a9aae-e0f1-47ae-be82-58560d572ebf",
   "metadata": {},
   "source": [
    "# Avaliação (v1)\n",
    "\n",
    "Aqui estão os resultados obtidos na primeira leva de testes (conforme conversado em 06/06). \n",
    "\n",
    "Conversamos de testar inicialmente `Naive Bayes` e `Hoeffding Tree`, porém decidi incluir também `Compliment Naive Bayes`, pois de acordo com a [descrição](https://scikit-learn.org/stable/modules/generated/sklearn.naive_bayes.ComplementNB.html) *\"It is particularly suited for imbalanced data sets.\"* (conjuntos de dados onde um categoria é bem mais \"rara\" que a(s) outra(s)), o que pareceu se encaixar bem no problema.\n",
    "\n",
    "Obs: o código para os modelos está em [ic/models](../ic/models), inicialmente foi feito para que pudesse ser treinado pela linha de comando.\n",
    "\n",
    "---\n",
    "\n",
    "## Parte 1\n",
    "\n",
    "Primeiramente, treinamos/testamos cada modelo (`Gaussia Naive Bayes`, `Complement Naive Bayes` e `Hoeffding Tree`) utilizando a as seguintes estratégias:\n",
    "\n",
    "1. Treinar com os dados de **terça**, testar com os dados de **quarta-sexta**\n",
    "2. Treinar com os dados de **quinta**, testar com os dados de **sexta**\n",
    "\n",
    "Também foi utilizada uma Ensemble dos 3 modelos (prevê como \"verdadeiro\" se qualquer um dos 3 prever como verdadeiro).\n",
    "\n",
    "Os resultados/métricas para cada um deles para as duas estratégias podem ser vistos abaixo:"
   ]
  },
  {
   "cell_type": "code",
   "execution_count": 2,
   "id": "d9567400-827c-41e2-be5e-1ffc848f7daa",
   "metadata": {},
   "outputs": [
    {
     "name": "stdout",
     "output_type": "stream",
     "text": [
      "{'total_analyzed': 1852750, 'accuracy': 0.7070711105114019, 'recall': 0.0, 'precision': 0, 'false_alarm_rate': 0.0}\n"
     ]
    }
   ],
   "source": [
    "print(evaluate(\n",
    "    joblib.load('../../../trained_models/naive_bayes_tuesday.joblib'),\n",
    "    '../../../data/Grouped_Wed-Fri.csv'\n",
    "))"
   ]
  },
  {
   "cell_type": "code",
   "execution_count": 3,
   "id": "348e86f0-bf37-4074-9689-b08a443ad916",
   "metadata": {},
   "outputs": [
    {
     "name": "stdout",
     "output_type": "stream",
     "text": [
      "{'total_analyzed': 702718, 'accuracy': 0.5890456769287253, 'recall': 0.0, 'precision': 0, 'false_alarm_rate': 0.0}\n"
     ]
    }
   ],
   "source": [
    "print(evaluate(\n",
    "    joblib.load('../../../trained_models/naive_bayes_thursday.joblib'),\n",
    "    '../../../data/Grouped_Friday.csv'\n",
    "))"
   ]
  },
  {
   "cell_type": "code",
   "execution_count": 4,
   "id": "7174e4f0-09ef-47de-9ddd-fd8f2295bcd8",
   "metadata": {},
   "outputs": [
    {
     "name": "stdout",
     "output_type": "stream",
     "text": [
      "{'total_analyzed': 1852750, 'accuracy': 0.545428147348536, 'recall': 0.4474594821677317, 'precision': 0.30928910387198827, 'false_alarm_rate': 0.41398491327653036}\n"
     ]
    }
   ],
   "source": [
    "print(evaluate(\n",
    "    joblib.load('../../../trained_models/complement_nb_tuesday.joblib'),\n",
    "    '../../../data/Grouped_Wed-Fri.csv'\n",
    "))"
   ]
  },
  {
   "cell_type": "code",
   "execution_count": 5,
   "id": "db7732a4-5cdc-4d79-9aa6-da0acc2c93a7",
   "metadata": {},
   "outputs": [
    {
     "name": "stdout",
     "output_type": "stream",
     "text": [
      "{'total_analyzed': 702718, 'accuracy': 0.5206142435514673, 'recall': 0.11040739650605122, 'precision': 0.2850450579316264, 'false_alarm_rate': 0.19320034884872672}\n"
     ]
    }
   ],
   "source": [
    "print(evaluate(\n",
    "    joblib.load('../../../trained_models/complement_nb_thursday.joblib'),\n",
    "    '../../../data/Grouped_Friday.csv'\n",
    "))"
   ]
  },
  {
   "cell_type": "code",
   "execution_count": 6,
   "id": "4207ab29-bcf2-46f3-befa-42fd19dc385e",
   "metadata": {},
   "outputs": [
    {
     "name": "stdout",
     "output_type": "stream",
     "text": [
      "{'total_analyzed': 1854916, 'accuracy': 0.706827155515398, 'recall': 0.0, 'precision': 0, 'false_alarm_rate': 0.0}\n"
     ]
    }
   ],
   "source": [
    "print(evaluate(\n",
    "    joblib.load('../../../trained_models/hoeffding_tuesday.joblib'),\n",
    "    '../../../data/Grouped_Wed-Fri.csv'\n",
    "))"
   ]
  },
  {
   "cell_type": "code",
   "execution_count": 7,
   "id": "d3bc3b82-a85e-45f0-b9b1-4ad9289fb61e",
   "metadata": {},
   "outputs": [
    {
     "name": "stdout",
     "output_type": "stream",
     "text": [
      "{'total_analyzed': 703245, 'accuracy': 0.5891574060249273, 'recall': 0.0, 'precision': 0, 'false_alarm_rate': 0.0}\n"
     ]
    }
   ],
   "source": [
    "print(evaluate(\n",
    "    joblib.load('../../../trained_models/hoeffding_thursday.joblib'),\n",
    "    '../../../data/Grouped_Friday.csv'\n",
    "))"
   ]
  },
  {
   "cell_type": "code",
   "execution_count": 8,
   "id": "b990d326-08c1-4baf-a0f6-b4c567ef3360",
   "metadata": {},
   "outputs": [
    {
     "name": "stdout",
     "output_type": "stream",
     "text": [
      "{'total_analyzed': 1854916, 'accuracy': 0.545372944111755, 'recall': 0.4465650749984829, 'precision': 0.30928910387198827, 'false_alarm_rate': 0.41364421613829555}\n"
     ]
    }
   ],
   "source": [
    "print(evaluate(\n",
    "    Ensemble([\n",
    "        '../../../trained_models/naive_bayes_tuesday.joblib',\n",
    "        '../../../trained_models/complement_nb_tuesday.joblib',\n",
    "        '../../../trained_models/hoeffding_tuesday.joblib'\n",
    "    ]),\n",
    "    '../../../data/Grouped_Wed-Fri.csv'\n",
    "))"
   ]
  },
  {
   "cell_type": "code",
   "execution_count": 9,
   "id": "6b85a08e-772e-463f-8b2e-506c0ec279cf",
   "metadata": {},
   "outputs": [
    {
     "name": "stdout",
     "output_type": "stream",
     "text": [
      "{'total_analyzed': 703245, 'accuracy': 0.5207772540153147, 'recall': 0.11035466196875984, 'precision': 0.2850450579316264, 'false_alarm_rate': 0.19301895627072663}\n"
     ]
    }
   ],
   "source": [
    "print(evaluate(\n",
    "    Ensemble([\n",
    "        '../../../trained_models/naive_bayes_thursday.joblib',\n",
    "        '../../../trained_models/complement_nb_thursday.joblib',\n",
    "        '../../../trained_models/hoeffding_thursday.joblib'\n",
    "    ]),\n",
    "    '../../../data/Grouped_Friday.csv'\n",
    "))"
   ]
  },
  {
   "cell_type": "markdown",
   "id": "2f15c7f7-bbac-4439-8159-1d1a3bf110c1",
   "metadata": {},
   "source": [
    "---\n",
    "\n",
    "## Parte 2\n",
    "\n",
    "Notei que os tipos de ataques são mutualmente exclusivos em cada dia (um dia não possui os mesmos tipos de ataques dos outros). Portanto decidi treinar os mesmos modelos agrupando os dados de todos os dias (deixando 70% para treino e 30% para teste).\n",
    "\n",
    "Os resultados podem ser vistos nas células seguintes:"
   ]
  },
  {
   "cell_type": "code",
   "execution_count": 10,
   "id": "22538b21-a3b6-41fc-990d-25688de540d0",
   "metadata": {},
   "outputs": [
    {
     "name": "stdout",
     "output_type": "stream",
     "text": [
      "{'total_analyzed': 1130043, 'accuracy': 0.8036773821881115, 'recall': 0.0, 'precision': 0, 'false_alarm_rate': 0.0}\n"
     ]
    }
   ],
   "source": [
    "print(evaluate(\n",
    "    joblib.load('../../../trained_models/naive_bayes_all.joblib'),\n",
    "    '../../../data/Split_All_Test.csv'\n",
    "))"
   ]
  },
  {
   "cell_type": "code",
   "execution_count": 11,
   "id": "f223445a-4cff-41ba-b4b1-a4ca49d7a087",
   "metadata": {},
   "outputs": [
    {
     "name": "stdout",
     "output_type": "stream",
     "text": [
      "{'total_analyzed': 1130043, 'accuracy': 0.5613945664014556, 'recall': 0.5355257760769518, 'precision': 0.23231639832149018, 'false_alarm_rate': 0.43228619561985926}\n"
     ]
    }
   ],
   "source": [
    "print(evaluate(\n",
    "    joblib.load('../../../trained_models/complement_nb_all.joblib'),\n",
    "    '../../../data/Split_All_Test.csv'\n",
    "))"
   ]
  },
  {
   "cell_type": "code",
   "execution_count": 12,
   "id": "c3e4e0b4-4a71-4a7d-a287-3be16411bf01",
   "metadata": {},
   "outputs": [
    {
     "name": "stdout",
     "output_type": "stream",
     "text": [
      "{'total_analyzed': 1131157, 'accuracy': 0.8884372372712188, 'recall': 0.4405039831945625, 'precision': 0.9818130777405707, 'false_alarm_rate': 0.0019959333133813353}\n"
     ]
    }
   ],
   "source": [
    "print(evaluate(\n",
    "    joblib.load('../../../trained_models/hoeffding_all.joblib'),\n",
    "    '../../../data/Split_All_Test.csv'\n",
    "))"
   ]
  },
  {
   "cell_type": "code",
   "execution_count": 13,
   "id": "4502c010-9756-4b7e-8af8-38c060f6ec47",
   "metadata": {},
   "outputs": [
    {
     "name": "stdout",
     "output_type": "stream",
     "text": [
      "{'total_analyzed': 1131223, 'accuracy': 0.5821752209776498, 'recall': 0.6441349652960519, 'precision': 0.26679124638091584, 'false_alarm_rate': 0.4329793577830246}\n"
     ]
    }
   ],
   "source": [
    "print(evaluate(\n",
    "    Ensemble([\n",
    "        '../../../trained_models/naive_bayes_all.joblib',\n",
    "        '../../../trained_models/complement_nb_all.joblib',\n",
    "        '../../../trained_models/hoeffding_all.joblib'\n",
    "    ]),\n",
    "    '../../../data/Split_All_Test.csv'\n",
    "))"
   ]
  },
  {
   "cell_type": "markdown",
   "id": "1204e2f6-8ac5-4622-b4ef-371b5eb88a1f",
   "metadata": {},
   "source": [
    "---\n",
    "\n",
    "## Parte 3 \n",
    "\n",
    "Além disso, devido ao fato de que o `Complemente NB` em teoria é multiclasse e lida bem com probabilidades desproporcionais para cada classe, testei treiná-lo com cada classe de ataque (ao invés de binário \"ataque/não ataque\"). O resultado está abaixo:"
   ]
  },
  {
   "cell_type": "code",
   "execution_count": 2,
   "id": "4b61d16d-70fc-48e0-8e3a-05f43e004974",
   "metadata": {},
   "outputs": [
    {
     "name": "stdout",
     "output_type": "stream",
     "text": [
      "{'total_analyzed': 1130043, 'accuracy': 0.4976943355252853, 'recall': 0.818037168755888, 'precision': 0.25606497145646795, 'false_alarm_rate': 0.580559134101895}\n"
     ]
    }
   ],
   "source": [
    "from ic.models.complement_nb_multiclass import process_row as process_row_complement_nb\n",
    "print(evaluate(\n",
    "    joblib.load('../../trained_models/complement_nb_multiclass_all.joblib'),\n",
    "    '../../../data/Split_All_Test.csv',\n",
    "    process_row_complement_nb\n",
    "))"
   ]
  }
 ],
 "metadata": {
  "kernelspec": {
   "display_name": "Python 3 (ipykernel)",
   "language": "python",
   "name": "python3"
  },
  "language_info": {
   "codemirror_mode": {
    "name": "ipython",
    "version": 3
   },
   "file_extension": ".py",
   "mimetype": "text/x-python",
   "name": "python",
   "nbconvert_exporter": "python",
   "pygments_lexer": "ipython3",
   "version": "3.10.4"
  }
 },
 "nbformat": 4,
 "nbformat_minor": 5
}
