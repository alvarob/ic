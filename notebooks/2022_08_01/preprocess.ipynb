{
 "cells": [
  {
   "cell_type": "code",
   "execution_count": 1,
   "id": "b4aa8db2-c64a-495d-90c1-c02169b3be0e",
   "metadata": {},
   "outputs": [],
   "source": [
    "import os\n",
    "import sys\n",
    "module_path = os.path.abspath(os.path.join('../..'))\n",
    "if module_path not in sys.path:\n",
    "    sys.path.append(module_path)\n",
    "    \n",
    "import warnings\n",
    "warnings.filterwarnings('ignore')"
   ]
  },
  {
   "cell_type": "code",
   "execution_count": 2,
   "id": "8281b5c1-0704-486b-9652-3979f02bc99b",
   "metadata": {},
   "outputs": [],
   "source": [
    "from ic import util\n",
    "from ic.data_treatment.preprocess import preprocess_with_warmup"
   ]
  },
  {
   "cell_type": "code",
   "execution_count": 3,
   "id": "44aac95c-ef96-4878-b78b-d6574c959821",
   "metadata": {},
   "outputs": [],
   "source": [
    "DATA_ROOT = '../../data/MachineLearningCVE'\n",
    "OUTPUT_ROOT = '../../data/2022_08_01'\n",
    "\n",
    "CSV_FILE_NAMES = [\n",
    "    'Thursday-WorkingHours-Morning-WebAttacks.pcap_ISCX.csv',\n",
    "    'Friday-WorkingHours-Afternoon-DDos.pcap_ISCX.csv',\n",
    "    'Friday-WorkingHours-Morning.pcap_ISCX.csv',\n",
    "    'Tuesday-WorkingHours.pcap_ISCX.csv',\n",
    "    'Wednesday-workingHours.pcap_ISCX.csv',\n",
    "    'Friday-WorkingHours-Afternoon-PortScan.pcap_ISCX.csv',\n",
    "]\n",
    "\n",
    "def preprocess(file_name):\n",
    "    input_path = f'{DATA_ROOT}/{file_name}'\n",
    "    preprocess_with_warmup(input_path, OUTPUT_ROOT+'/processed')\n",
    "\n",
    "    \n",
    "for file_name in CSV_FILE_NAMES:\n",
    "    preprocess(file_name)"
   ]
  }
 ],
 "metadata": {
  "kernelspec": {
   "display_name": "Python 3 (ipykernel)",
   "language": "python",
   "name": "python3"
  },
  "language_info": {
   "codemirror_mode": {
    "name": "ipython",
    "version": 3
   },
   "file_extension": ".py",
   "mimetype": "text/x-python",
   "name": "python",
   "nbconvert_exporter": "python",
   "pygments_lexer": "ipython3",
   "version": "3.8.10"
  }
 },
 "nbformat": 4,
 "nbformat_minor": 5
}
