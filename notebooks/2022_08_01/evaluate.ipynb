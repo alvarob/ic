{
 "cells": [
  {
   "cell_type": "code",
   "execution_count": 2,
   "id": "089ad36f-8f27-4a72-9f37-0ad4805903dc",
   "metadata": {},
   "outputs": [],
   "source": [
    "import os\n",
    "import sys\n",
    "module_path = os.path.abspath(os.path.join('../..'))\n",
    "if module_path not in sys.path:\n",
    "    sys.path.append(module_path)"
   ]
  },
  {
   "cell_type": "code",
   "execution_count": 3,
   "id": "58032608-c9a6-46c2-8642-631788dea3f0",
   "metadata": {},
   "outputs": [],
   "source": [
    "from collections import deque\n",
    "import time\n",
    "\n",
    "import joblib\n",
    "import pandas as pd\n",
    "import river\n",
    "\n",
    "from ic import util"
   ]
  },
  {
   "cell_type": "code",
   "execution_count": 4,
   "id": "89867d10-7043-40a5-b27f-bc57a91a2023",
   "metadata": {},
   "outputs": [],
   "source": [
    "def step_to_dataframe(evaluation_step):\n",
    "    return pd.DataFrame({\n",
    "        'accuracy': evaluation_step['Accuracy'].get(),\n",
    "        'recall': evaluation_step['Recall'].get(),\n",
    "        'precision': evaluation_step['Precision'].get(),\n",
    "        'f1': evaluation_step['F1'].get(),\n",
    "    }, index=[evaluation_step['Step']])\n",
    "\n",
    "\n",
    "def evaluate_prequential_delayed(\n",
    "    model, stream, delay=500, eval_step=500\n",
    "):\n",
    "    metrics = river.metrics.base.Metrics(\n",
    "        metrics=[\n",
    "            river.metrics.Accuracy(),  \n",
    "            river.metrics.Recall(), \n",
    "            river.metrics.Precision(),\n",
    "            river.metrics.F1()\n",
    "        ]\n",
    "    )\n",
    "    \n",
    "    step_iterator = river.evaluate.iter_progressive_val_score(\n",
    "        model=model, \n",
    "        dataset=stream, \n",
    "        metric=metrics, \n",
    "        step=eval_step,\n",
    "        delay=delay\n",
    "    )\n",
    "    \n",
    "    metrics_df = pd.DataFrame()\n",
    "    \n",
    "    for step in step_iterator:\n",
    "        metrics_df = pd.concat([metrics_df, step_to_dataframe(step)])\n",
    "    \n",
    "    return metrics_df\n",
    "\n",
    "\n",
    "def metrics_to_dataframe(step, metrics):\n",
    "    return pd.DataFrame(dict(\n",
    "        zip(\n",
    "            ['accuracy', 'recall', 'precision', 'f1'],\n",
    "            [ [ m.get() ] for m in metrics ]\n",
    "        )\n",
    "    ), index=[step])\n",
    "\n",
    "\n",
    "def evaluate_prequential_delayed_1(\n",
    "    model, stream, delay=500, eval_step=500\n",
    "):\n",
    "    delay_queue = deque()\n",
    "    \n",
    "    metrics = river.metrics.base.Metrics(\n",
    "        metrics=[\n",
    "            river.metrics.Accuracy(),  \n",
    "            river.metrics.Recall(), \n",
    "            river.metrics.Precision(),\n",
    "            river.metrics.F1()\n",
    "        ]\n",
    "    )\n",
    "    \n",
    "    metrics_df = pd.DataFrame()\n",
    "    \n",
    "    for step, (X, y) in enumerate(stream):\n",
    "        y_pred = model.predict_one(X)\n",
    "        metrics.update(y_true=y, y_pred=y_pred)\n",
    "        \n",
    "        delay_queue.append((X, y))\n",
    "        while len(delay_queue) > delay:\n",
    "            X, y = delay_queue.popleft()\n",
    "            model.learn_one(X, y)\n",
    "    \n",
    "        if (step+1)%eval_step == 0:\n",
    "            metrics_df = pd.concat([metrics_df, metrics_to_dataframe(step+1, metrics)])\n",
    "    \n",
    "    return metrics_df\n",
    "\n",
    "\n",
    "def warm_up_and_evaluate(model, stream, n_warm_up_rows=1000):\n",
    "    for _ in range(n_warm_up_rows):\n",
    "        X, y = next(stream)\n",
    "        model.learn_one(X, y)\n",
    "    \n",
    "    return evaluate_prequential_delayed(model, stream)"
   ]
  },
  {
   "cell_type": "code",
   "execution_count": 9,
   "id": "7e78779d-3577-4542-a8ef-a6296a687e8e",
   "metadata": {},
   "outputs": [],
   "source": [
    "def yield_dataset(path, target):\n",
    "    chunks = pd.read_csv(path, chunksize=1000)\n",
    "    for chunk in chunks:\n",
    "        for _, row in chunk.iterrows():\n",
    "            yield (row[row.index != target].to_dict(), row[target])\n",
    "            \n",
    "            \n",
    "def process_evaluation(model, label, file_path):\n",
    "    out_path = f'../../data/2022_08_01/metrics/{util.basename(file_path)}.{label}.metrics.csv'        \n",
    "    stream = yield_dataset(file_path, target='Label')\n",
    "\n",
    "    start_time = time.time()\n",
    "    h_m = time.strftime('%H:%M')\n",
    "    print(f'Starting {label} - {h_m}')\n",
    "\n",
    "    metrics = warm_up_and_evaluate(model, stream)\n",
    "    metrics.to_csv(out_path, index_label='step')\n",
    "\n",
    "    print(f'Took {int((time.time()-start_time)/60)} mins\\n')\n",
    "\n",
    "    model_out_path = f'../../trained_models/2022_08_01/{label}_{util.basename(file_path)}.joblib'\n",
    "    joblib.dump(model, model_out_path)"
   ]
  },
  {
   "cell_type": "code",
   "execution_count": 5,
   "id": "c4047875-a9ea-44b8-81ba-dee93cfd7fc8",
   "metadata": {},
   "outputs": [
    {
     "name": "stdout",
     "output_type": "stream",
     "text": [
      "Starting HoeffdingTree - 19:36\n",
      "Took 2 mins\n",
      "\n"
     ]
    }
   ],
   "source": [
    "process_evaluation(\n",
    "    river.tree.HoeffdingTreeClassifier(),\n",
    "    'HoeffdingTree',\n",
    "    '../../data/2022_08_01/processed/Friday-WorkingHours-Afternoon-DDos.pcap_ISCX.processed.csv'\n",
    ")"
   ]
  },
  {
   "cell_type": "code",
   "execution_count": 6,
   "id": "f58e7267-8a71-4334-b737-272a38db8298",
   "metadata": {},
   "outputs": [
    {
     "name": "stdout",
     "output_type": "stream",
     "text": [
      "Starting Bagging - 19:39\n",
      "Took 21 mins\n",
      "\n"
     ]
    }
   ],
   "source": [
    "process_evaluation(\n",
    "    river.ensemble.BaggingClassifier(\n",
    "        model=river.tree.HoeffdingTreeClassifier()\n",
    "    ),\n",
    "    'Bagging',\n",
    "    '../../data/2022_08_01 rocessed/Friday-WorkingHours-Afternoon-DDos.pcap_ISCX.processed.csv'\n",
    ")"
   ]
  },
  {
   "cell_type": "code",
   "execution_count": 7,
   "id": "50ccd375-c644-4eed-a8f0-8fc2b605c86e",
   "metadata": {},
   "outputs": [
    {
     "name": "stdout",
     "output_type": "stream",
     "text": [
      "Starting ADWINBagging - 20:01\n",
      "Took 25 mins\n",
      "\n"
     ]
    }
   ],
   "source": [
    "process_evaluation(\n",
    "    river.ensemble.ADWINBaggingClassifier(\n",
    "        model=river.tree.HoeffdingTreeClassifier()\n",
    "    ),\n",
    "    'ADWINBagging',\n",
    "    '../../data/2022_08_01/processed/Friday-WorkingHours-Afternoon-DDos.pcap_ISCX.processed.csv'\n",
    ")"
   ]
  },
  {
   "cell_type": "raw",
   "id": "840e9c91-bb1e-4927-a785-74f305cb88f2",
   "metadata": {},
   "source": [
    "process_evaluation(\n",
    "    river.neighbors.KNNClassifier(),\n",
    "    'KNN',\n",
    "    '../../data/2022_08_01/processed/Friday-WorkingHours-Afternoon-DDos.pcap_ISCX.processed.csv'\n",
    ")"
   ]
  },
  {
   "cell_type": "markdown",
   "id": "3e123914-fd50-4c95-9791-5c140bb8b0a9",
   "metadata": {},
   "source": [
    "---"
   ]
  },
  {
   "cell_type": "code",
   "execution_count": 8,
   "id": "ddecbeb9-3ec4-4f06-8ede-daaa217d66ef",
   "metadata": {},
   "outputs": [
    {
     "name": "stdout",
     "output_type": "stream",
     "text": [
      "Starting HoeffdingTree - 20:45\n",
      "Took 5 mins\n",
      "\n"
     ]
    }
   ],
   "source": [
    "process_evaluation(\n",
    "    river.tree.HoeffdingTreeClassifier(),\n",
    "    'HoeffdingTree',\n",
    "    '../../data/2022_08_01/processed/Tuesday-WorkingHours.pcap_ISCX.processed.csv'\n",
    ")"
   ]
  },
  {
   "cell_type": "code",
   "execution_count": 9,
   "id": "6bcb6470-38d0-4469-9767-c1057de462e6",
   "metadata": {},
   "outputs": [
    {
     "name": "stdout",
     "output_type": "stream",
     "text": [
      "Starting Bagging - 20:50\n",
      "Took 45 mins\n",
      "\n"
     ]
    }
   ],
   "source": [
    "process_evaluation(\n",
    "   river.ensemble.BaggingClassifier(\n",
    "        model=river.tree.HoeffdingTreeClassifier()\n",
    "    ),\n",
    "    'Bagging',\n",
    "    '../../data/2022_08_01/processed/Tuesday-WorkingHours.pcap_ISCX.processed.csv'\n",
    ")"
   ]
  },
  {
   "cell_type": "code",
   "execution_count": 10,
   "id": "2832cc10-3887-4e05-9ec1-1a4123999b33",
   "metadata": {},
   "outputs": [
    {
     "name": "stdout",
     "output_type": "stream",
     "text": [
      "Starting ADWINBagging - 21:36\n",
      "Took 58 mins\n",
      "\n"
     ]
    }
   ],
   "source": [
    "process_evaluation(\n",
    "    river.ensemble.ADWINBaggingClassifier(\n",
    "        model=river.tree.HoeffdingTreeClassifier()\n",
    "    ),\n",
    "    'ADWINBagging',\n",
    "    '../../data/2022_08_01/processed/Tuesday-WorkingHours.pcap_ISCX.processed.csv'\n",
    ")"
   ]
  },
  {
   "cell_type": "markdown",
   "id": "fb4ead40-745d-42df-9e54-bff52e080dd1",
   "metadata": {},
   "source": [
    "---"
   ]
  },
  {
   "cell_type": "code",
   "execution_count": 11,
   "id": "0c69d4da-8b78-4b58-a052-7065a5e1ba3a",
   "metadata": {},
   "outputs": [
    {
     "name": "stdout",
     "output_type": "stream",
     "text": [
      "Starting HoeffdingTree - 22:34\n",
      "Took 8 mins\n",
      "\n"
     ]
    }
   ],
   "source": [
    "process_evaluation(\n",
    "    river.tree.HoeffdingTreeClassifier(),\n",
    "    'HoeffdingTree',\n",
    "    '../../data/2022_08_01/processed/Wednesday-workingHours.pcap_ISCX.processed.csv'\n",
    ")"
   ]
  },
  {
   "cell_type": "code",
   "execution_count": 12,
   "id": "6d2870cb-cde7-4a99-bf88-45b721f93b31",
   "metadata": {},
   "outputs": [
    {
     "name": "stdout",
     "output_type": "stream",
     "text": [
      "Starting Bagging - 22:43\n",
      "Took 72 mins\n",
      "\n"
     ]
    }
   ],
   "source": [
    "process_evaluation(\n",
    "   river.ensemble.BaggingClassifier(\n",
    "        model=river.tree.HoeffdingTreeClassifier()\n",
    "    ),\n",
    "    'Bagging',\n",
    "    '../../data/2022_08_01/processed/Wednesday-workingHours.pcap_ISCX.processed.csv'\n",
    ")"
   ]
  },
  {
   "cell_type": "code",
   "execution_count": 13,
   "id": "9a3c1077-8510-44e6-b673-3bcc041f5c95",
   "metadata": {},
   "outputs": [
    {
     "name": "stdout",
     "output_type": "stream",
     "text": [
      "Starting ADWINBagging - 23:56\n",
      "Took 89 mins\n",
      "\n"
     ]
    }
   ],
   "source": [
    "process_evaluation(\n",
    "    river.ensemble.ADWINBaggingClassifier(\n",
    "        model=river.tree.HoeffdingTreeClassifier()\n",
    "    ),\n",
    "    'ADWINBagging',\n",
    "    '../../data/2022_08_01/processed/Wednesday-workingHours.pcap_ISCX.processed.csv'\n",
    ")"
   ]
  },
  {
   "cell_type": "markdown",
   "id": "b09d0372-1ff5-473d-b314-ead5835746f9",
   "metadata": {},
   "source": [
    "---"
   ]
  },
  {
   "cell_type": "code",
   "execution_count": 14,
   "id": "5985e3c0-12f9-4a96-b3eb-72a911e58c62",
   "metadata": {},
   "outputs": [
    {
     "name": "stdout",
     "output_type": "stream",
     "text": [
      "Starting HoeffdingTree - 01:26\n",
      "Took 1 mins\n",
      "\n"
     ]
    }
   ],
   "source": [
    "process_evaluation(\n",
    "    river.tree.HoeffdingTreeClassifier(),\n",
    "    'HoeffdingTree',\n",
    "    '../../data/2022_08_01/processed/Thursday-WorkingHours-Morning-WebAttacks.pcap_ISCX.processed.csv'\n",
    ")"
   ]
  },
  {
   "cell_type": "code",
   "execution_count": 15,
   "id": "8146de5c-79d9-4bae-9f0b-09f6c95e215c",
   "metadata": {},
   "outputs": [
    {
     "name": "stdout",
     "output_type": "stream",
     "text": [
      "Starting Bagging - 01:27\n",
      "Took 14 mins\n",
      "\n"
     ]
    }
   ],
   "source": [
    "process_evaluation(\n",
    "   river.ensemble.BaggingClassifier(\n",
    "        model=river.tree.HoeffdingTreeClassifier()\n",
    "    ),\n",
    "    'Bagging',\n",
    "    '../../data/2022_08_01/processed/Thursday-WorkingHours-Morning-WebAttacks.pcap_ISCX.processed.csv'\n",
    ")"
   ]
  },
  {
   "cell_type": "code",
   "execution_count": 16,
   "id": "55050890-63d8-4b57-a254-38c7cc45217d",
   "metadata": {},
   "outputs": [
    {
     "name": "stdout",
     "output_type": "stream",
     "text": [
      "Starting ADWINBagging - 01:42\n",
      "Took 16 mins\n",
      "\n"
     ]
    }
   ],
   "source": [
    "process_evaluation(\n",
    "    river.ensemble.ADWINBaggingClassifier(\n",
    "        model=river.tree.HoeffdingTreeClassifier()\n",
    "    ),\n",
    "    'ADWINBagging',\n",
    "    '../../data/2022_08_01/processed/Thursday-WorkingHours-Morning-WebAttacks.pcap_ISCX.processed.csv'\n",
    ")"
   ]
  },
  {
   "cell_type": "markdown",
   "id": "91b3ab91-2790-4ad3-813a-84d3c2dee81f",
   "metadata": {},
   "source": [
    "---"
   ]
  },
  {
   "cell_type": "code",
   "execution_count": 17,
   "id": "853f362c-aa11-49dd-ae37-2ed4e14883ba",
   "metadata": {},
   "outputs": [
    {
     "name": "stdout",
     "output_type": "stream",
     "text": [
      "Starting HoeffdingTree - 01:59\n",
      "Took 2 mins\n",
      "\n"
     ]
    }
   ],
   "source": [
    "process_evaluation(\n",
    "    river.tree.HoeffdingTreeClassifier(),\n",
    "    'HoeffdingTree',\n",
    "    '../../data/2022_08_01/processed/Friday-WorkingHours-Afternoon-PortScan.pcap_ISCX.processed.csv'\n",
    ")"
   ]
  },
  {
   "cell_type": "code",
   "execution_count": 18,
   "id": "0e1146de-089b-4922-977e-a84a994b34d7",
   "metadata": {},
   "outputs": [
    {
     "name": "stdout",
     "output_type": "stream",
     "text": [
      "Starting Bagging - 02:01\n",
      "Took 19 mins\n",
      "\n"
     ]
    }
   ],
   "source": [
    "process_evaluation(\n",
    "   river.ensemble.BaggingClassifier(\n",
    "        model=river.tree.HoeffdingTreeClassifier()\n",
    "    ),\n",
    "    'Bagging',\n",
    "    '../../data/2022_08_01/processed/Friday-WorkingHours-Afternoon-PortScan.pcap_ISCX.processed.csv'\n",
    ")"
   ]
  },
  {
   "cell_type": "code",
   "execution_count": 19,
   "id": "e93a8ef9-408e-4b8a-92e3-2f6f8ea501eb",
   "metadata": {},
   "outputs": [
    {
     "name": "stdout",
     "output_type": "stream",
     "text": [
      "Starting ADWINBagging - 02:21\n",
      "Took 25 mins\n",
      "\n"
     ]
    }
   ],
   "source": [
    "process_evaluation(\n",
    "    river.ensemble.ADWINBaggingClassifier(\n",
    "        model=river.tree.HoeffdingTreeClassifier()\n",
    "    ),\n",
    "    'ADWINBagging',\n",
    "    '../../data/2022_08_01/processed/Friday-WorkingHours-Afternoon-PortScan.pcap_ISCX.processed.csv'\n",
    ")"
   ]
  },
  {
   "cell_type": "markdown",
   "id": "5bf9069c-9466-4ab6-8de7-2a16294a0a37",
   "metadata": {},
   "source": [
    "---"
   ]
  },
  {
   "cell_type": "code",
   "execution_count": 20,
   "id": "3ca5880a-fdc6-4460-b741-6ea0e53d1c8a",
   "metadata": {},
   "outputs": [
    {
     "name": "stdout",
     "output_type": "stream",
     "text": [
      "Starting HoeffdingTree - 02:46\n",
      "Took 1 mins\n",
      "\n"
     ]
    }
   ],
   "source": [
    "process_evaluation(\n",
    "    river.tree.HoeffdingTreeClassifier(),\n",
    "    'HoeffdingTree',\n",
    "    '../../data/2022_08_01/processed/Friday-WorkingHours-Morning.pcap_ISCX.processed.csv'\n",
    ")"
   ]
  },
  {
   "cell_type": "code",
   "execution_count": 21,
   "id": "f5be9623-a952-4108-956b-ed21cd9be4c8",
   "metadata": {},
   "outputs": [
    {
     "name": "stdout",
     "output_type": "stream",
     "text": [
      "Starting Bagging - 02:47\n",
      "Took 9 mins\n",
      "\n"
     ]
    }
   ],
   "source": [
    "process_evaluation(\n",
    "   river.ensemble.BaggingClassifier(\n",
    "        model=river.tree.HoeffdingTreeClassifier()\n",
    "    ),\n",
    "    'Bagging',\n",
    "    '../../data/2022_08_01/processed/Friday-WorkingHours-Morning.pcap_ISCX.processed.csv'\n",
    ")"
   ]
  },
  {
   "cell_type": "code",
   "execution_count": 22,
   "id": "6b2bff2e-3951-4e2e-a499-eae7f5f2e8fc",
   "metadata": {},
   "outputs": [
    {
     "name": "stdout",
     "output_type": "stream",
     "text": [
      "Starting ADWINBagging - 02:57\n",
      "Took 11 mins\n",
      "\n"
     ]
    }
   ],
   "source": [
    "process_evaluation(\n",
    "    river.ensemble.ADWINBaggingClassifier(\n",
    "        model=river.tree.HoeffdingTreeClassifier()\n",
    "    ),\n",
    "    'ADWINBagging',\n",
    "    '../../data/2022_08_01/processed/Friday-WorkingHours-Morning.pcap_ISCX.processed.csv'\n",
    ")"
   ]
  },
  {
   "cell_type": "markdown",
   "id": "a55e639a-aa61-4bae-b246-d9729ab57074",
   "metadata": {},
   "source": [
    "---"
   ]
  },
  {
   "cell_type": "code",
   "execution_count": 30,
   "id": "4c930ebf-2e6f-4a77-8e90-bfb930d3967c",
   "metadata": {},
   "outputs": [],
   "source": [
    "import numpy as np\n",
    "from river import base\n",
    "\n",
    "\n",
    "from collections import deque\n",
    "from functools import reduce\n",
    "import heapq\n",
    "\n",
    "\n",
    "def euclidean_distance(a, b):\n",
    "    return np.linalg.norm(a-b)\n",
    "\n",
    "\n",
    "class MyKNN(base.Classifier):\n",
    "    def __init__(self, n_neighbors=5, window_size=1000, min_distance_keep=0.05):\n",
    "        self.n_neighbors = n_neighbors\n",
    "        self.window_size = window_size\n",
    "        self.min_distance_keep = min_distance_keep\n",
    "        self.points = deque()\n",
    "        self.fields = None\n",
    "        \n",
    "    def learn_one(self, x, y):\n",
    "        if not self.fields:\n",
    "            self.fields = [ field for field in x ]\n",
    "        \n",
    "        new_point = np.array([ x[field] for field in self.fields])\n",
    "        min_distance = reduce(\n",
    "            lambda acc, x: min(acc, euclidean_distance(x[0], new_point)),\n",
    "            self.points,\n",
    "            float('inf')\n",
    "        )\n",
    "        \n",
    "        if min_distance >= self.min_distance_keep:\n",
    "            self.points.append((new_point, y))\n",
    "            \n",
    "        while len(self.points) > self.window_size:\n",
    "            self.points.popleft()\n",
    "        \n",
    "        return self\n",
    "    \n",
    "    \n",
    "    def predict_one(self, x):\n",
    "        if not self.points:\n",
    "            raise RuntimeError('KNN has no points yet')\n",
    "        \n",
    "        heap = []\n",
    "        point_x = np.array([ x[field] for field in self.fields])\n",
    "        \n",
    "        for point, label in self.points:\n",
    "            heapq.heappush(heap, (-euclidean_distance(point_x, point), label))\n",
    "        \n",
    "            while len(heap) > self.n_neighbors:\n",
    "                heapq.heappop(heap)\n",
    "        \n",
    "        scores = {}\n",
    "        for distance, label in heap:\n",
    "            if not label in scores:\n",
    "                scores[label] = 0\n",
    "            \n",
    "            score_for_point = (-1)/distance if distance != 0 else float('inf')\n",
    "            scores[label] += score_for_point\n",
    "        \n",
    "        best_weight = float('-inf')\n",
    "        predicted_label = None\n",
    "        \n",
    "        for label, weight in scores.items():\n",
    "            if weight > best_weight:\n",
    "                best_weight = weight\n",
    "                predicted_label = label\n",
    "        \n",
    "        return predicted_label"
   ]
  },
  {
   "cell_type": "code",
   "execution_count": 31,
   "id": "308b003d-1100-4b35-9c36-6ba8ffd05bab",
   "metadata": {},
   "outputs": [
    {
     "name": "stdout",
     "output_type": "stream",
     "text": [
      "Starting KNN - 01:09\n",
      "Took 20 mins\n",
      "\n"
     ]
    }
   ],
   "source": [
    "process_evaluation(\n",
    "    MyKNN(),\n",
    "    'KNN',\n",
    "    '../../data/2022_08_01/processed/Friday-WorkingHours-Afternoon-DDos.pcap_ISCX.processed.csv'\n",
    ")"
   ]
  },
  {
   "cell_type": "code",
   "execution_count": 32,
   "id": "29d2258d-1c7a-4c92-87a2-d19361bbdd7c",
   "metadata": {},
   "outputs": [
    {
     "name": "stdout",
     "output_type": "stream",
     "text": [
      "Starting KNN - 03:05\n",
      "Took 42 mins\n",
      "\n"
     ]
    }
   ],
   "source": [
    "process_evaluation(\n",
    "    MyKNN(),\n",
    "    'KNN',\n",
    "    '../../data/2022_08_01/processed/Tuesday-WorkingHours.pcap_ISCX.processed.csv'\n",
    ")"
   ]
  },
  {
   "cell_type": "code",
   "execution_count": 33,
   "id": "81f476c0-cfde-4143-930e-86ddf6390b0d",
   "metadata": {},
   "outputs": [
    {
     "name": "stdout",
     "output_type": "stream",
     "text": [
      "Starting KNN - 03:48\n",
      "Took 65 mins\n",
      "\n"
     ]
    }
   ],
   "source": [
    "process_evaluation(\n",
    "    MyKNN(),\n",
    "    'KNN',\n",
    "    '../../data/2022_08_01/processed/Wednesday-workingHours.pcap_ISCX.processed.csv'\n",
    ")"
   ]
  },
  {
   "cell_type": "code",
   "execution_count": 34,
   "id": "e415de0c-7fd4-4327-b427-78550eaa87a7",
   "metadata": {},
   "outputs": [
    {
     "name": "stdout",
     "output_type": "stream",
     "text": [
      "Starting KNN - 04:53\n",
      "Took 13 mins\n",
      "\n"
     ]
    }
   ],
   "source": [
    "process_evaluation(\n",
    "    MyKNN(),\n",
    "    'KNN',\n",
    "    '../../data/2022_08_01/processed/Thursday-WorkingHours-Morning-WebAttacks.pcap_ISCX.processed.csv'\n",
    ")"
   ]
  },
  {
   "cell_type": "code",
   "execution_count": 35,
   "id": "fad2107f-692f-4178-8057-555d45cb6132",
   "metadata": {},
   "outputs": [
    {
     "name": "stdout",
     "output_type": "stream",
     "text": [
      "Starting KNN - 05:07\n",
      "Took 19 mins\n",
      "\n"
     ]
    }
   ],
   "source": [
    "process_evaluation(\n",
    "    MyKNN(),\n",
    "    'KNN',\n",
    "     '../../data/2022_08_01/processed/Friday-WorkingHours-Afternoon-PortScan.pcap_ISCX.processed.csv'\n",
    ")"
   ]
  },
  {
   "cell_type": "code",
   "execution_count": 36,
   "id": "535c466b-60ad-4e57-8358-8be0fb389941",
   "metadata": {},
   "outputs": [
    {
     "name": "stdout",
     "output_type": "stream",
     "text": [
      "Starting KNN - 05:27\n",
      "Took 8 mins\n",
      "\n"
     ]
    }
   ],
   "source": [
    "process_evaluation(\n",
    "    MyKNN(),\n",
    "    'KNN',\n",
    "     '../../data/2022_08_01/processed/Friday-WorkingHours-Morning.pcap_ISCX.processed.csv'\n",
    ")"
   ]
  }
 ],
 "metadata": {
  "kernelspec": {
   "display_name": "Python 3 (ipykernel)",
   "language": "python",
   "name": "python3"
  },
  "language_info": {
   "codemirror_mode": {
    "name": "ipython",
    "version": 3
   },
   "file_extension": ".py",
   "mimetype": "text/x-python",
   "name": "python",
   "nbconvert_exporter": "python",
   "pygments_lexer": "ipython3",
   "version": "3.8.10"
  }
 },
 "nbformat": 4,
 "nbformat_minor": 5
}
