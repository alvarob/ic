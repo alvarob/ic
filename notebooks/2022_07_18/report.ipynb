{
 "cells": [
  {
   "cell_type": "code",
   "execution_count": 1,
   "id": "93e4bd6e-5673-4340-b507-62f2d2528764",
   "metadata": {},
   "outputs": [],
   "source": [
    "import os\n",
    "import sys\n",
    "module_path = os.path.abspath(os.path.join('../..'))\n",
    "if module_path not in sys.path:\n",
    "    sys.path.append(module_path)"
   ]
  },
  {
   "cell_type": "code",
   "execution_count": 2,
   "id": "2bc2d762-52b2-4471-a73b-940859274b3e",
   "metadata": {},
   "outputs": [],
   "source": [
    "import functools, math, operator\n",
    "\n",
    "import numpy as np\n",
    "import pandas as pd\n",
    "from IPython.display import display, HTML\n",
    "\n",
    "from ic.data_treatment import util, preprocess\n",
    "\n",
    "\n",
    "DATA_ROOT = \"../../data/MachineLearningCVE\""
   ]
  },
  {
   "cell_type": "code",
   "execution_count": 3,
   "id": "decc8666-8341-41ba-a205-497462a01887",
   "metadata": {},
   "outputs": [
    {
     "data": {
      "text/plain": [
       "['../../data/MachineLearningCVE/Monday-WorkingHours.pcap_ISCX.csv',\n",
       " '../../data/MachineLearningCVE/Thursday-WorkingHours-Morning-WebAttacks.pcap_ISCX.csv',\n",
       " '../../data/MachineLearningCVE/Friday-WorkingHours-Afternoon-DDos.pcap_ISCX.csv',\n",
       " '../../data/MachineLearningCVE/Friday-WorkingHours-Morning.pcap_ISCX.csv',\n",
       " '../../data/MachineLearningCVE/Tuesday-WorkingHours.pcap_ISCX.csv',\n",
       " '../../data/MachineLearningCVE/Wednesday-workingHours.pcap_ISCX.csv',\n",
       " '../../data/MachineLearningCVE/Friday-WorkingHours-Afternoon-PortScan.pcap_ISCX.csv',\n",
       " '../../data/MachineLearningCVE/Thursday-WorkingHours-Afternoon-Infilteration.pcap_ISCX.csv']"
      ]
     },
     "execution_count": 3,
     "metadata": {},
     "output_type": "execute_result"
    }
   ],
   "source": [
    "csvs = util.files_from_dir(DATA_ROOT, 'csv')\n",
    "csvs"
   ]
  },
  {
   "cell_type": "code",
   "execution_count": 4,
   "id": "8a31246d-4f0b-4d7c-a45c-bd4e3bb75c5d",
   "metadata": {},
   "outputs": [
    {
     "name": "stdout",
     "output_type": "stream",
     "text": [
      "['Destination Port', 'Flow Duration', 'Total Fwd Packets', 'Total Backward Packets', 'Total Length of Fwd Packets', 'Total Length of Bwd Packets', 'Fwd Packet Length Max', 'Fwd Packet Length Min', 'Fwd Packet Length Mean', 'Fwd Packet Length Std', 'Bwd Packet Length Max', 'Bwd Packet Length Min', 'Bwd Packet Length Mean', 'Bwd Packet Length Std', 'Flow Bytes/s', 'Flow Packets/s', 'Flow IAT Mean', 'Flow IAT Std', 'Flow IAT Max', 'Flow IAT Min', 'Fwd IAT Total', 'Fwd IAT Mean', 'Fwd IAT Std', 'Fwd IAT Max', 'Fwd IAT Min', 'Bwd IAT Total', 'Bwd IAT Mean', 'Bwd IAT Std', 'Bwd IAT Max', 'Bwd IAT Min', 'Fwd PSH Flags', 'Bwd PSH Flags', 'Fwd URG Flags', 'Bwd URG Flags', 'Fwd Header Length', 'Bwd Header Length', 'Fwd Packets/s', 'Bwd Packets/s', 'Min Packet Length', 'Max Packet Length', 'Packet Length Mean', 'Packet Length Std', 'Packet Length Variance', 'FIN Flag Count', 'SYN Flag Count', 'RST Flag Count', 'PSH Flag Count', 'ACK Flag Count', 'URG Flag Count', 'CWE Flag Count', 'ECE Flag Count', 'Down/Up Ratio', 'Average Packet Size', 'Avg Fwd Segment Size', 'Avg Bwd Segment Size', 'Fwd Header Length.1', 'Fwd Avg Bytes/Bulk', 'Fwd Avg Packets/Bulk', 'Fwd Avg Bulk Rate', 'Bwd Avg Bytes/Bulk', 'Bwd Avg Packets/Bulk', 'Bwd Avg Bulk Rate', 'Subflow Fwd Packets', 'Subflow Fwd Bytes', 'Subflow Bwd Packets', 'Subflow Bwd Bytes', 'Init_Win_bytes_forward', 'Init_Win_bytes_backward', 'act_data_pkt_fwd', 'min_seg_size_forward', 'Active Mean', 'Active Std', 'Active Max', 'Active Min', 'Idle Mean', 'Idle Std', 'Idle Max', 'Idle Min', 'Label']\n"
     ]
    }
   ],
   "source": [
    "headers = [ header.strip() for header in util.csv_headers(csvs[0]) ]\n",
    "headers[55] = 'Fwd Header Length.1'\n",
    "print(headers)"
   ]
  },
  {
   "cell_type": "code",
   "execution_count": 1,
   "id": "d2c92746-6c9e-42a1-a8bd-8443248ea2f2",
   "metadata": {},
   "outputs": [],
   "source": [
    "def problems_in_chunk(chunk):\n",
    "    numeric_columns = chunk.columns.tolist()[:-1] # Remove 'Label'\n",
    "    return chunk[preprocess.problem_filter(chunk, numeric_columns)]\n",
    "\n",
    "\n",
    "STATS = ['nan values', 'inf values', 'negative values']\n",
    "\n",
    "\n",
    "def initial_stats(headers):\n",
    "    return pd.DataFrame(dict(\n",
    "        [(stat, [ 0 for h in headers ]) for stat in STATS]\n",
    "    ), index=headers)\n",
    "\n",
    "\n",
    "def stats_for_series(series):\n",
    "    return pd.Series(\n",
    "        [\n",
    "            sum([ 1 for x in series if pd.isna(x) ]),\n",
    "            sum([ 1 for x in series if abs(x) == math.inf ]),\n",
    "            sum([ 1 for x in series if x < 0 ]),\n",
    "        ], \n",
    "        index=STATS\n",
    "    )\n",
    "\n",
    "\n",
    "def stats_dataframe(problems_dataframe):\n",
    "    df = problems_dataframe.drop('Label', axis=1)        \n",
    "    return df.apply(stats_for_series).transpose()\n",
    "\n",
    "\n",
    "def drop_zeroes(df):\n",
    "    return df.loc[df.sum(axis=1) != 0, df.sum() != 0]\n",
    "\n",
    "\n",
    "def process_file(in_file_path, out_dir):\n",
    "    first_chunk = True\n",
    "    total_rows = 0\n",
    "    total_problems = 0\n",
    "    \n",
    "    reader = pd.read_csv(in_file_path, chunksize=1000)\n",
    "    \n",
    "    base_name = util.basename(in_file_path)\n",
    "    out_problems_path = out_dir + '/' + base_name + \".problems.csv\"\n",
    "    out_stats_path = out_dir + '/' + base_name + \".stats.csv\"\n",
    "    \n",
    "    stats_df = initial_stats(headers[:-1])\n",
    "    \n",
    "    for chunk in reader:\n",
    "        chunk = chunk.rename(columns=lambda c: c.strip())\n",
    "        total_rows += chunk.shape[0]\n",
    "        \n",
    "        problems_dataframe = problems_in_chunk(chunk)\n",
    "        total_problems += problems_dataframe.shape[0]\n",
    "        \n",
    "        if problems_dataframe.shape[0]:\n",
    "            chunk_stats = stats_dataframe(problems_dataframe)\n",
    "            stats_df += chunk_stats\n",
    "        \n",
    "        mode = 'w' if first_chunk else 'a'\n",
    "        problems_dataframe.to_csv(out_problems_path, mode=mode, header=first_chunk)\n",
    "        first_chunk = False\n",
    "    \n",
    "    stats_df.to_csv(out_stats_path)\n",
    "    return (total_rows, total_problems, stats_df)\n",
    "\n",
    "\n",
    "def report(total_rows, total_problems, stats):\n",
    "    percentage = (total_problems/total_rows)*100\n",
    "    print(total_problems, \"linhas com problema\", \"({:.2f}%)\".format(round(percentage, 2)))\n",
    "    display(drop_zeroes(stats))\n",
    "\n",
    "\n",
    "def main(csvs, out_dir):\n",
    "    total = 0\n",
    "    total_problems = 0\n",
    "    full_stats = initial_stats(headers[:-1])\n",
    "    \n",
    "    for file in csvs:\n",
    "        display(HTML(f'<h3>{util.basename(file)}</h3>'))\n",
    "        total_rows, problem_rows, stats_df = process_file(file, out_dir)\n",
    "        \n",
    "        total += total_rows\n",
    "        total_problems += problem_rows\n",
    "        full_stats += stats_df \n",
    "        \n",
    "        report(total_rows, problem_rows, stats_df)\n",
    "        display(HTML('<hr/>'))\n",
    "        \n",
    "    display(HTML('<h3>Total:</h3>'))\n",
    "    report(total, total_problems, full_stats)\n",
    "        \n",
    "        "
   ]
  },
  {
   "cell_type": "code",
   "execution_count": 6,
   "id": "29553e36-92e5-4a57-a410-075c4e4411f4",
   "metadata": {},
   "outputs": [
    {
     "data": {
      "text/html": [
       "<h3>Monday-WorkingHours.pcap_ISCX</h3>"
      ],
      "text/plain": [
       "<IPython.core.display.HTML object>"
      ]
     },
     "metadata": {},
     "output_type": "display_data"
    },
    {
     "name": "stdout",
     "output_type": "stream",
     "text": [
      "299810 linhas com problema (56.58%)\n"
     ]
    },
    {
     "data": {
      "text/html": [
       "<div>\n",
       "<style scoped>\n",
       "    .dataframe tbody tr th:only-of-type {\n",
       "        vertical-align: middle;\n",
       "    }\n",
       "\n",
       "    .dataframe tbody tr th {\n",
       "        vertical-align: top;\n",
       "    }\n",
       "\n",
       "    .dataframe thead th {\n",
       "        text-align: right;\n",
       "    }\n",
       "</style>\n",
       "<table border=\"1\" class=\"dataframe\">\n",
       "  <thead>\n",
       "    <tr style=\"text-align: right;\">\n",
       "      <th></th>\n",
       "      <th>nan values</th>\n",
       "      <th>inf values</th>\n",
       "      <th>negative values</th>\n",
       "    </tr>\n",
       "  </thead>\n",
       "  <tbody>\n",
       "    <tr>\n",
       "      <th>Flow Duration</th>\n",
       "      <td>0</td>\n",
       "      <td>0</td>\n",
       "      <td>15</td>\n",
       "    </tr>\n",
       "    <tr>\n",
       "      <th>Flow Bytes/s</th>\n",
       "      <td>64</td>\n",
       "      <td>373</td>\n",
       "      <td>9</td>\n",
       "    </tr>\n",
       "    <tr>\n",
       "      <th>Flow Packets/s</th>\n",
       "      <td>0</td>\n",
       "      <td>437</td>\n",
       "      <td>15</td>\n",
       "    </tr>\n",
       "    <tr>\n",
       "      <th>Flow IAT Mean</th>\n",
       "      <td>0</td>\n",
       "      <td>0</td>\n",
       "      <td>15</td>\n",
       "    </tr>\n",
       "    <tr>\n",
       "      <th>Flow IAT Max</th>\n",
       "      <td>0</td>\n",
       "      <td>0</td>\n",
       "      <td>15</td>\n",
       "    </tr>\n",
       "    <tr>\n",
       "      <th>Flow IAT Min</th>\n",
       "      <td>0</td>\n",
       "      <td>0</td>\n",
       "      <td>512</td>\n",
       "    </tr>\n",
       "    <tr>\n",
       "      <th>Fwd Header Length</th>\n",
       "      <td>0</td>\n",
       "      <td>0</td>\n",
       "      <td>23</td>\n",
       "    </tr>\n",
       "    <tr>\n",
       "      <th>Bwd Header Length</th>\n",
       "      <td>0</td>\n",
       "      <td>0</td>\n",
       "      <td>17</td>\n",
       "    </tr>\n",
       "    <tr>\n",
       "      <th>Fwd Header Length.1</th>\n",
       "      <td>0</td>\n",
       "      <td>0</td>\n",
       "      <td>23</td>\n",
       "    </tr>\n",
       "    <tr>\n",
       "      <th>Init_Win_bytes_forward</th>\n",
       "      <td>0</td>\n",
       "      <td>0</td>\n",
       "      <td>224495</td>\n",
       "    </tr>\n",
       "    <tr>\n",
       "      <th>Init_Win_bytes_backward</th>\n",
       "      <td>0</td>\n",
       "      <td>0</td>\n",
       "      <td>299094</td>\n",
       "    </tr>\n",
       "    <tr>\n",
       "      <th>min_seg_size_forward</th>\n",
       "      <td>0</td>\n",
       "      <td>0</td>\n",
       "      <td>23</td>\n",
       "    </tr>\n",
       "  </tbody>\n",
       "</table>\n",
       "</div>"
      ],
      "text/plain": [
       "                         nan values  inf values  negative values\n",
       "Flow Duration                     0           0               15\n",
       "Flow Bytes/s                     64         373                9\n",
       "Flow Packets/s                    0         437               15\n",
       "Flow IAT Mean                     0           0               15\n",
       "Flow IAT Max                      0           0               15\n",
       "Flow IAT Min                      0           0              512\n",
       "Fwd Header Length                 0           0               23\n",
       "Bwd Header Length                 0           0               17\n",
       "Fwd Header Length.1               0           0               23\n",
       "Init_Win_bytes_forward            0           0           224495\n",
       "Init_Win_bytes_backward           0           0           299094\n",
       "min_seg_size_forward              0           0               23"
      ]
     },
     "metadata": {},
     "output_type": "display_data"
    },
    {
     "data": {
      "text/html": [
       "<hr/>"
      ],
      "text/plain": [
       "<IPython.core.display.HTML object>"
      ]
     },
     "metadata": {},
     "output_type": "display_data"
    },
    {
     "data": {
      "text/html": [
       "<h3>Thursday-WorkingHours-Morning-WebAttacks.pcap_ISCX</h3>"
      ],
      "text/plain": [
       "<IPython.core.display.HTML object>"
      ]
     },
     "metadata": {},
     "output_type": "display_data"
    },
    {
     "name": "stdout",
     "output_type": "stream",
     "text": [
      "102704 linhas com problema (60.28%)\n"
     ]
    },
    {
     "data": {
      "text/html": [
       "<div>\n",
       "<style scoped>\n",
       "    .dataframe tbody tr th:only-of-type {\n",
       "        vertical-align: middle;\n",
       "    }\n",
       "\n",
       "    .dataframe tbody tr th {\n",
       "        vertical-align: top;\n",
       "    }\n",
       "\n",
       "    .dataframe thead th {\n",
       "        text-align: right;\n",
       "    }\n",
       "</style>\n",
       "<table border=\"1\" class=\"dataframe\">\n",
       "  <thead>\n",
       "    <tr style=\"text-align: right;\">\n",
       "      <th></th>\n",
       "      <th>nan values</th>\n",
       "      <th>inf values</th>\n",
       "      <th>negative values</th>\n",
       "    </tr>\n",
       "  </thead>\n",
       "  <tbody>\n",
       "    <tr>\n",
       "      <th>Flow Duration</th>\n",
       "      <td>0</td>\n",
       "      <td>0</td>\n",
       "      <td>11</td>\n",
       "    </tr>\n",
       "    <tr>\n",
       "      <th>Flow Bytes/s</th>\n",
       "      <td>20</td>\n",
       "      <td>115</td>\n",
       "      <td>10</td>\n",
       "    </tr>\n",
       "    <tr>\n",
       "      <th>Flow Packets/s</th>\n",
       "      <td>0</td>\n",
       "      <td>135</td>\n",
       "      <td>11</td>\n",
       "    </tr>\n",
       "    <tr>\n",
       "      <th>Flow IAT Mean</th>\n",
       "      <td>0</td>\n",
       "      <td>0</td>\n",
       "      <td>11</td>\n",
       "    </tr>\n",
       "    <tr>\n",
       "      <th>Flow IAT Max</th>\n",
       "      <td>0</td>\n",
       "      <td>0</td>\n",
       "      <td>11</td>\n",
       "    </tr>\n",
       "    <tr>\n",
       "      <th>Flow IAT Min</th>\n",
       "      <td>0</td>\n",
       "      <td>0</td>\n",
       "      <td>263</td>\n",
       "    </tr>\n",
       "    <tr>\n",
       "      <th>Init_Win_bytes_forward</th>\n",
       "      <td>0</td>\n",
       "      <td>0</td>\n",
       "      <td>81911</td>\n",
       "    </tr>\n",
       "    <tr>\n",
       "      <th>Init_Win_bytes_backward</th>\n",
       "      <td>0</td>\n",
       "      <td>0</td>\n",
       "      <td>102373</td>\n",
       "    </tr>\n",
       "  </tbody>\n",
       "</table>\n",
       "</div>"
      ],
      "text/plain": [
       "                         nan values  inf values  negative values\n",
       "Flow Duration                     0           0               11\n",
       "Flow Bytes/s                     20         115               10\n",
       "Flow Packets/s                    0         135               11\n",
       "Flow IAT Mean                     0           0               11\n",
       "Flow IAT Max                      0           0               11\n",
       "Flow IAT Min                      0           0              263\n",
       "Init_Win_bytes_forward            0           0            81911\n",
       "Init_Win_bytes_backward           0           0           102373"
      ]
     },
     "metadata": {},
     "output_type": "display_data"
    },
    {
     "data": {
      "text/html": [
       "<hr/>"
      ],
      "text/plain": [
       "<IPython.core.display.HTML object>"
      ]
     },
     "metadata": {},
     "output_type": "display_data"
    },
    {
     "data": {
      "text/html": [
       "<h3>Friday-WorkingHours-Afternoon-DDos.pcap_ISCX</h3>"
      ],
      "text/plain": [
       "<IPython.core.display.HTML object>"
      ]
     },
     "metadata": {},
     "output_type": "display_data"
    },
    {
     "name": "stdout",
     "output_type": "stream",
     "text": [
      "88416 linhas com problema (39.17%)\n"
     ]
    },
    {
     "data": {
      "text/html": [
       "<div>\n",
       "<style scoped>\n",
       "    .dataframe tbody tr th:only-of-type {\n",
       "        vertical-align: middle;\n",
       "    }\n",
       "\n",
       "    .dataframe tbody tr th {\n",
       "        vertical-align: top;\n",
       "    }\n",
       "\n",
       "    .dataframe thead th {\n",
       "        text-align: right;\n",
       "    }\n",
       "</style>\n",
       "<table border=\"1\" class=\"dataframe\">\n",
       "  <thead>\n",
       "    <tr style=\"text-align: right;\">\n",
       "      <th></th>\n",
       "      <th>nan values</th>\n",
       "      <th>inf values</th>\n",
       "      <th>negative values</th>\n",
       "    </tr>\n",
       "  </thead>\n",
       "  <tbody>\n",
       "    <tr>\n",
       "      <th>Flow Duration</th>\n",
       "      <td>0</td>\n",
       "      <td>0</td>\n",
       "      <td>2</td>\n",
       "    </tr>\n",
       "    <tr>\n",
       "      <th>Flow Bytes/s</th>\n",
       "      <td>4</td>\n",
       "      <td>30</td>\n",
       "      <td>2</td>\n",
       "    </tr>\n",
       "    <tr>\n",
       "      <th>Flow Packets/s</th>\n",
       "      <td>0</td>\n",
       "      <td>34</td>\n",
       "      <td>2</td>\n",
       "    </tr>\n",
       "    <tr>\n",
       "      <th>Flow IAT Mean</th>\n",
       "      <td>0</td>\n",
       "      <td>0</td>\n",
       "      <td>2</td>\n",
       "    </tr>\n",
       "    <tr>\n",
       "      <th>Flow IAT Max</th>\n",
       "      <td>0</td>\n",
       "      <td>0</td>\n",
       "      <td>2</td>\n",
       "    </tr>\n",
       "    <tr>\n",
       "      <th>Flow IAT Min</th>\n",
       "      <td>0</td>\n",
       "      <td>0</td>\n",
       "      <td>108</td>\n",
       "    </tr>\n",
       "    <tr>\n",
       "      <th>Fwd IAT Min</th>\n",
       "      <td>0</td>\n",
       "      <td>0</td>\n",
       "      <td>6</td>\n",
       "    </tr>\n",
       "    <tr>\n",
       "      <th>Init_Win_bytes_forward</th>\n",
       "      <td>0</td>\n",
       "      <td>0</td>\n",
       "      <td>32925</td>\n",
       "    </tr>\n",
       "    <tr>\n",
       "      <th>Init_Win_bytes_backward</th>\n",
       "      <td>0</td>\n",
       "      <td>0</td>\n",
       "      <td>88299</td>\n",
       "    </tr>\n",
       "  </tbody>\n",
       "</table>\n",
       "</div>"
      ],
      "text/plain": [
       "                         nan values  inf values  negative values\n",
       "Flow Duration                     0           0                2\n",
       "Flow Bytes/s                      4          30                2\n",
       "Flow Packets/s                    0          34                2\n",
       "Flow IAT Mean                     0           0                2\n",
       "Flow IAT Max                      0           0                2\n",
       "Flow IAT Min                      0           0              108\n",
       "Fwd IAT Min                       0           0                6\n",
       "Init_Win_bytes_forward            0           0            32925\n",
       "Init_Win_bytes_backward           0           0            88299"
      ]
     },
     "metadata": {},
     "output_type": "display_data"
    },
    {
     "data": {
      "text/html": [
       "<hr/>"
      ],
      "text/plain": [
       "<IPython.core.display.HTML object>"
      ]
     },
     "metadata": {},
     "output_type": "display_data"
    },
    {
     "data": {
      "text/html": [
       "<h3>Friday-WorkingHours-Morning.pcap_ISCX</h3>"
      ],
      "text/plain": [
       "<IPython.core.display.HTML object>"
      ]
     },
     "metadata": {},
     "output_type": "display_data"
    },
    {
     "name": "stdout",
     "output_type": "stream",
     "text": [
      "118703 linhas com problema (62.14%)\n"
     ]
    },
    {
     "data": {
      "text/html": [
       "<div>\n",
       "<style scoped>\n",
       "    .dataframe tbody tr th:only-of-type {\n",
       "        vertical-align: middle;\n",
       "    }\n",
       "\n",
       "    .dataframe tbody tr th {\n",
       "        vertical-align: top;\n",
       "    }\n",
       "\n",
       "    .dataframe thead th {\n",
       "        text-align: right;\n",
       "    }\n",
       "</style>\n",
       "<table border=\"1\" class=\"dataframe\">\n",
       "  <thead>\n",
       "    <tr style=\"text-align: right;\">\n",
       "      <th></th>\n",
       "      <th>nan values</th>\n",
       "      <th>inf values</th>\n",
       "      <th>negative values</th>\n",
       "    </tr>\n",
       "  </thead>\n",
       "  <tbody>\n",
       "    <tr>\n",
       "      <th>Flow Duration</th>\n",
       "      <td>0</td>\n",
       "      <td>0</td>\n",
       "      <td>9</td>\n",
       "    </tr>\n",
       "    <tr>\n",
       "      <th>Flow Bytes/s</th>\n",
       "      <td>28</td>\n",
       "      <td>94</td>\n",
       "      <td>8</td>\n",
       "    </tr>\n",
       "    <tr>\n",
       "      <th>Flow Packets/s</th>\n",
       "      <td>0</td>\n",
       "      <td>122</td>\n",
       "      <td>9</td>\n",
       "    </tr>\n",
       "    <tr>\n",
       "      <th>Flow IAT Mean</th>\n",
       "      <td>0</td>\n",
       "      <td>0</td>\n",
       "      <td>9</td>\n",
       "    </tr>\n",
       "    <tr>\n",
       "      <th>Flow IAT Max</th>\n",
       "      <td>0</td>\n",
       "      <td>0</td>\n",
       "      <td>9</td>\n",
       "    </tr>\n",
       "    <tr>\n",
       "      <th>Flow IAT Min</th>\n",
       "      <td>0</td>\n",
       "      <td>0</td>\n",
       "      <td>225</td>\n",
       "    </tr>\n",
       "    <tr>\n",
       "      <th>Init_Win_bytes_forward</th>\n",
       "      <td>0</td>\n",
       "      <td>0</td>\n",
       "      <td>95834</td>\n",
       "    </tr>\n",
       "    <tr>\n",
       "      <th>Init_Win_bytes_backward</th>\n",
       "      <td>0</td>\n",
       "      <td>0</td>\n",
       "      <td>118419</td>\n",
       "    </tr>\n",
       "  </tbody>\n",
       "</table>\n",
       "</div>"
      ],
      "text/plain": [
       "                         nan values  inf values  negative values\n",
       "Flow Duration                     0           0                9\n",
       "Flow Bytes/s                     28          94                8\n",
       "Flow Packets/s                    0         122                9\n",
       "Flow IAT Mean                     0           0                9\n",
       "Flow IAT Max                      0           0                9\n",
       "Flow IAT Min                      0           0              225\n",
       "Init_Win_bytes_forward            0           0            95834\n",
       "Init_Win_bytes_backward           0           0           118419"
      ]
     },
     "metadata": {},
     "output_type": "display_data"
    },
    {
     "data": {
      "text/html": [
       "<hr/>"
      ],
      "text/plain": [
       "<IPython.core.display.HTML object>"
      ]
     },
     "metadata": {},
     "output_type": "display_data"
    },
    {
     "data": {
      "text/html": [
       "<h3>Tuesday-WorkingHours.pcap_ISCX</h3>"
      ],
      "text/plain": [
       "<IPython.core.display.HTML object>"
      ]
     },
     "metadata": {},
     "output_type": "display_data"
    },
    {
     "name": "stdout",
     "output_type": "stream",
     "text": [
      "257195 linhas com problema (57.68%)\n"
     ]
    },
    {
     "data": {
      "text/html": [
       "<div>\n",
       "<style scoped>\n",
       "    .dataframe tbody tr th:only-of-type {\n",
       "        vertical-align: middle;\n",
       "    }\n",
       "\n",
       "    .dataframe tbody tr th {\n",
       "        vertical-align: top;\n",
       "    }\n",
       "\n",
       "    .dataframe thead th {\n",
       "        text-align: right;\n",
       "    }\n",
       "</style>\n",
       "<table border=\"1\" class=\"dataframe\">\n",
       "  <thead>\n",
       "    <tr style=\"text-align: right;\">\n",
       "      <th></th>\n",
       "      <th>nan values</th>\n",
       "      <th>inf values</th>\n",
       "      <th>negative values</th>\n",
       "    </tr>\n",
       "  </thead>\n",
       "  <tbody>\n",
       "    <tr>\n",
       "      <th>Flow Duration</th>\n",
       "      <td>0</td>\n",
       "      <td>0</td>\n",
       "      <td>17</td>\n",
       "    </tr>\n",
       "    <tr>\n",
       "      <th>Flow Bytes/s</th>\n",
       "      <td>201</td>\n",
       "      <td>63</td>\n",
       "      <td>0</td>\n",
       "    </tr>\n",
       "    <tr>\n",
       "      <th>Flow Packets/s</th>\n",
       "      <td>0</td>\n",
       "      <td>264</td>\n",
       "      <td>17</td>\n",
       "    </tr>\n",
       "    <tr>\n",
       "      <th>Flow IAT Mean</th>\n",
       "      <td>0</td>\n",
       "      <td>0</td>\n",
       "      <td>17</td>\n",
       "    </tr>\n",
       "    <tr>\n",
       "      <th>Flow IAT Max</th>\n",
       "      <td>0</td>\n",
       "      <td>0</td>\n",
       "      <td>17</td>\n",
       "    </tr>\n",
       "    <tr>\n",
       "      <th>Flow IAT Min</th>\n",
       "      <td>0</td>\n",
       "      <td>0</td>\n",
       "      <td>505</td>\n",
       "    </tr>\n",
       "    <tr>\n",
       "      <th>Fwd Header Length</th>\n",
       "      <td>0</td>\n",
       "      <td>0</td>\n",
       "      <td>11</td>\n",
       "    </tr>\n",
       "    <tr>\n",
       "      <th>Bwd Header Length</th>\n",
       "      <td>0</td>\n",
       "      <td>0</td>\n",
       "      <td>5</td>\n",
       "    </tr>\n",
       "    <tr>\n",
       "      <th>Fwd Header Length.1</th>\n",
       "      <td>0</td>\n",
       "      <td>0</td>\n",
       "      <td>11</td>\n",
       "    </tr>\n",
       "    <tr>\n",
       "      <th>Init_Win_bytes_forward</th>\n",
       "      <td>0</td>\n",
       "      <td>0</td>\n",
       "      <td>200128</td>\n",
       "    </tr>\n",
       "    <tr>\n",
       "      <th>Init_Win_bytes_backward</th>\n",
       "      <td>0</td>\n",
       "      <td>0</td>\n",
       "      <td>256599</td>\n",
       "    </tr>\n",
       "    <tr>\n",
       "      <th>min_seg_size_forward</th>\n",
       "      <td>0</td>\n",
       "      <td>0</td>\n",
       "      <td>11</td>\n",
       "    </tr>\n",
       "  </tbody>\n",
       "</table>\n",
       "</div>"
      ],
      "text/plain": [
       "                         nan values  inf values  negative values\n",
       "Flow Duration                     0           0               17\n",
       "Flow Bytes/s                    201          63                0\n",
       "Flow Packets/s                    0         264               17\n",
       "Flow IAT Mean                     0           0               17\n",
       "Flow IAT Max                      0           0               17\n",
       "Flow IAT Min                      0           0              505\n",
       "Fwd Header Length                 0           0               11\n",
       "Bwd Header Length                 0           0                5\n",
       "Fwd Header Length.1               0           0               11\n",
       "Init_Win_bytes_forward            0           0           200128\n",
       "Init_Win_bytes_backward           0           0           256599\n",
       "min_seg_size_forward              0           0               11"
      ]
     },
     "metadata": {},
     "output_type": "display_data"
    },
    {
     "data": {
      "text/html": [
       "<hr/>"
      ],
      "text/plain": [
       "<IPython.core.display.HTML object>"
      ]
     },
     "metadata": {},
     "output_type": "display_data"
    },
    {
     "data": {
      "text/html": [
       "<h3>Wednesday-workingHours.pcap_ISCX</h3>"
      ],
      "text/plain": [
       "<IPython.core.display.HTML object>"
      ]
     },
     "metadata": {},
     "output_type": "display_data"
    },
    {
     "name": "stdout",
     "output_type": "stream",
     "text": [
      "336419 linhas com problema (48.57%)\n"
     ]
    },
    {
     "data": {
      "text/html": [
       "<div>\n",
       "<style scoped>\n",
       "    .dataframe tbody tr th:only-of-type {\n",
       "        vertical-align: middle;\n",
       "    }\n",
       "\n",
       "    .dataframe tbody tr th {\n",
       "        vertical-align: top;\n",
       "    }\n",
       "\n",
       "    .dataframe thead th {\n",
       "        text-align: right;\n",
       "    }\n",
       "</style>\n",
       "<table border=\"1\" class=\"dataframe\">\n",
       "  <thead>\n",
       "    <tr style=\"text-align: right;\">\n",
       "      <th></th>\n",
       "      <th>nan values</th>\n",
       "      <th>inf values</th>\n",
       "      <th>negative values</th>\n",
       "    </tr>\n",
       "  </thead>\n",
       "  <tbody>\n",
       "    <tr>\n",
       "      <th>Flow Duration</th>\n",
       "      <td>0</td>\n",
       "      <td>0</td>\n",
       "      <td>21</td>\n",
       "    </tr>\n",
       "    <tr>\n",
       "      <th>Flow Bytes/s</th>\n",
       "      <td>1008</td>\n",
       "      <td>289</td>\n",
       "      <td>16</td>\n",
       "    </tr>\n",
       "    <tr>\n",
       "      <th>Flow Packets/s</th>\n",
       "      <td>0</td>\n",
       "      <td>1297</td>\n",
       "      <td>21</td>\n",
       "    </tr>\n",
       "    <tr>\n",
       "      <th>Flow IAT Mean</th>\n",
       "      <td>0</td>\n",
       "      <td>0</td>\n",
       "      <td>21</td>\n",
       "    </tr>\n",
       "    <tr>\n",
       "      <th>Flow IAT Max</th>\n",
       "      <td>0</td>\n",
       "      <td>0</td>\n",
       "      <td>21</td>\n",
       "    </tr>\n",
       "    <tr>\n",
       "      <th>Flow IAT Min</th>\n",
       "      <td>0</td>\n",
       "      <td>0</td>\n",
       "      <td>749</td>\n",
       "    </tr>\n",
       "    <tr>\n",
       "      <th>Fwd IAT Min</th>\n",
       "      <td>0</td>\n",
       "      <td>0</td>\n",
       "      <td>11</td>\n",
       "    </tr>\n",
       "    <tr>\n",
       "      <th>Fwd Header Length</th>\n",
       "      <td>0</td>\n",
       "      <td>0</td>\n",
       "      <td>1</td>\n",
       "    </tr>\n",
       "    <tr>\n",
       "      <th>Fwd Header Length.1</th>\n",
       "      <td>0</td>\n",
       "      <td>0</td>\n",
       "      <td>1</td>\n",
       "    </tr>\n",
       "    <tr>\n",
       "      <th>Init_Win_bytes_forward</th>\n",
       "      <td>0</td>\n",
       "      <td>0</td>\n",
       "      <td>203253</td>\n",
       "    </tr>\n",
       "    <tr>\n",
       "      <th>Init_Win_bytes_backward</th>\n",
       "      <td>0</td>\n",
       "      <td>0</td>\n",
       "      <td>335475</td>\n",
       "    </tr>\n",
       "    <tr>\n",
       "      <th>min_seg_size_forward</th>\n",
       "      <td>0</td>\n",
       "      <td>0</td>\n",
       "      <td>1</td>\n",
       "    </tr>\n",
       "  </tbody>\n",
       "</table>\n",
       "</div>"
      ],
      "text/plain": [
       "                         nan values  inf values  negative values\n",
       "Flow Duration                     0           0               21\n",
       "Flow Bytes/s                   1008         289               16\n",
       "Flow Packets/s                    0        1297               21\n",
       "Flow IAT Mean                     0           0               21\n",
       "Flow IAT Max                      0           0               21\n",
       "Flow IAT Min                      0           0              749\n",
       "Fwd IAT Min                       0           0               11\n",
       "Fwd Header Length                 0           0                1\n",
       "Fwd Header Length.1               0           0                1\n",
       "Init_Win_bytes_forward            0           0           203253\n",
       "Init_Win_bytes_backward           0           0           335475\n",
       "min_seg_size_forward              0           0                1"
      ]
     },
     "metadata": {},
     "output_type": "display_data"
    },
    {
     "data": {
      "text/html": [
       "<hr/>"
      ],
      "text/plain": [
       "<IPython.core.display.HTML object>"
      ]
     },
     "metadata": {},
     "output_type": "display_data"
    },
    {
     "data": {
      "text/html": [
       "<h3>Friday-WorkingHours-Afternoon-PortScan.pcap_ISCX</h3>"
      ],
      "text/plain": [
       "<IPython.core.display.HTML object>"
      ]
     },
     "metadata": {},
     "output_type": "display_data"
    },
    {
     "name": "stdout",
     "output_type": "stream",
     "text": [
      "77434 linhas com problema (27.03%)\n"
     ]
    },
    {
     "data": {
      "text/html": [
       "<div>\n",
       "<style scoped>\n",
       "    .dataframe tbody tr th:only-of-type {\n",
       "        vertical-align: middle;\n",
       "    }\n",
       "\n",
       "    .dataframe tbody tr th {\n",
       "        vertical-align: top;\n",
       "    }\n",
       "\n",
       "    .dataframe thead th {\n",
       "        text-align: right;\n",
       "    }\n",
       "</style>\n",
       "<table border=\"1\" class=\"dataframe\">\n",
       "  <thead>\n",
       "    <tr style=\"text-align: right;\">\n",
       "      <th></th>\n",
       "      <th>nan values</th>\n",
       "      <th>inf values</th>\n",
       "      <th>negative values</th>\n",
       "    </tr>\n",
       "  </thead>\n",
       "  <tbody>\n",
       "    <tr>\n",
       "      <th>Flow Duration</th>\n",
       "      <td>0</td>\n",
       "      <td>0</td>\n",
       "      <td>36</td>\n",
       "    </tr>\n",
       "    <tr>\n",
       "      <th>Flow Bytes/s</th>\n",
       "      <td>15</td>\n",
       "      <td>356</td>\n",
       "      <td>36</td>\n",
       "    </tr>\n",
       "    <tr>\n",
       "      <th>Flow Packets/s</th>\n",
       "      <td>0</td>\n",
       "      <td>371</td>\n",
       "      <td>36</td>\n",
       "    </tr>\n",
       "    <tr>\n",
       "      <th>Flow IAT Mean</th>\n",
       "      <td>0</td>\n",
       "      <td>0</td>\n",
       "      <td>36</td>\n",
       "    </tr>\n",
       "    <tr>\n",
       "      <th>Flow IAT Max</th>\n",
       "      <td>0</td>\n",
       "      <td>0</td>\n",
       "      <td>36</td>\n",
       "    </tr>\n",
       "    <tr>\n",
       "      <th>Flow IAT Min</th>\n",
       "      <td>0</td>\n",
       "      <td>0</td>\n",
       "      <td>176</td>\n",
       "    </tr>\n",
       "    <tr>\n",
       "      <th>Init_Win_bytes_forward</th>\n",
       "      <td>0</td>\n",
       "      <td>0</td>\n",
       "      <td>60210</td>\n",
       "    </tr>\n",
       "    <tr>\n",
       "      <th>Init_Win_bytes_backward</th>\n",
       "      <td>0</td>\n",
       "      <td>0</td>\n",
       "      <td>76942</td>\n",
       "    </tr>\n",
       "  </tbody>\n",
       "</table>\n",
       "</div>"
      ],
      "text/plain": [
       "                         nan values  inf values  negative values\n",
       "Flow Duration                     0           0               36\n",
       "Flow Bytes/s                     15         356               36\n",
       "Flow Packets/s                    0         371               36\n",
       "Flow IAT Mean                     0           0               36\n",
       "Flow IAT Max                      0           0               36\n",
       "Flow IAT Min                      0           0              176\n",
       "Init_Win_bytes_forward            0           0            60210\n",
       "Init_Win_bytes_backward           0           0            76942"
      ]
     },
     "metadata": {},
     "output_type": "display_data"
    },
    {
     "data": {
      "text/html": [
       "<hr/>"
      ],
      "text/plain": [
       "<IPython.core.display.HTML object>"
      ]
     },
     "metadata": {},
     "output_type": "display_data"
    },
    {
     "data": {
      "text/html": [
       "<h3>Thursday-WorkingHours-Afternoon-Infilteration.pcap_ISCX</h3>"
      ],
      "text/plain": [
       "<IPython.core.display.HTML object>"
      ]
     },
     "metadata": {},
     "output_type": "display_data"
    },
    {
     "name": "stdout",
     "output_type": "stream",
     "text": [
      "164732 linhas com problema (57.08%)\n"
     ]
    },
    {
     "data": {
      "text/html": [
       "<div>\n",
       "<style scoped>\n",
       "    .dataframe tbody tr th:only-of-type {\n",
       "        vertical-align: middle;\n",
       "    }\n",
       "\n",
       "    .dataframe tbody tr th {\n",
       "        vertical-align: top;\n",
       "    }\n",
       "\n",
       "    .dataframe thead th {\n",
       "        text-align: right;\n",
       "    }\n",
       "</style>\n",
       "<table border=\"1\" class=\"dataframe\">\n",
       "  <thead>\n",
       "    <tr style=\"text-align: right;\">\n",
       "      <th></th>\n",
       "      <th>nan values</th>\n",
       "      <th>inf values</th>\n",
       "      <th>negative values</th>\n",
       "    </tr>\n",
       "  </thead>\n",
       "  <tbody>\n",
       "    <tr>\n",
       "      <th>Flow Duration</th>\n",
       "      <td>0</td>\n",
       "      <td>0</td>\n",
       "      <td>4</td>\n",
       "    </tr>\n",
       "    <tr>\n",
       "      <th>Flow Bytes/s</th>\n",
       "      <td>18</td>\n",
       "      <td>189</td>\n",
       "      <td>4</td>\n",
       "    </tr>\n",
       "    <tr>\n",
       "      <th>Flow Packets/s</th>\n",
       "      <td>0</td>\n",
       "      <td>207</td>\n",
       "      <td>4</td>\n",
       "    </tr>\n",
       "    <tr>\n",
       "      <th>Flow IAT Mean</th>\n",
       "      <td>0</td>\n",
       "      <td>0</td>\n",
       "      <td>4</td>\n",
       "    </tr>\n",
       "    <tr>\n",
       "      <th>Flow IAT Max</th>\n",
       "      <td>0</td>\n",
       "      <td>0</td>\n",
       "      <td>4</td>\n",
       "    </tr>\n",
       "    <tr>\n",
       "      <th>Flow IAT Min</th>\n",
       "      <td>0</td>\n",
       "      <td>0</td>\n",
       "      <td>353</td>\n",
       "    </tr>\n",
       "    <tr>\n",
       "      <th>Init_Win_bytes_forward</th>\n",
       "      <td>0</td>\n",
       "      <td>0</td>\n",
       "      <td>102433</td>\n",
       "    </tr>\n",
       "    <tr>\n",
       "      <th>Init_Win_bytes_backward</th>\n",
       "      <td>0</td>\n",
       "      <td>0</td>\n",
       "      <td>164351</td>\n",
       "    </tr>\n",
       "  </tbody>\n",
       "</table>\n",
       "</div>"
      ],
      "text/plain": [
       "                         nan values  inf values  negative values\n",
       "Flow Duration                     0           0                4\n",
       "Flow Bytes/s                     18         189                4\n",
       "Flow Packets/s                    0         207                4\n",
       "Flow IAT Mean                     0           0                4\n",
       "Flow IAT Max                      0           0                4\n",
       "Flow IAT Min                      0           0              353\n",
       "Init_Win_bytes_forward            0           0           102433\n",
       "Init_Win_bytes_backward           0           0           164351"
      ]
     },
     "metadata": {},
     "output_type": "display_data"
    },
    {
     "data": {
      "text/html": [
       "<hr/>"
      ],
      "text/plain": [
       "<IPython.core.display.HTML object>"
      ]
     },
     "metadata": {},
     "output_type": "display_data"
    },
    {
     "data": {
      "text/html": [
       "<h3>Total:</h3>"
      ],
      "text/plain": [
       "<IPython.core.display.HTML object>"
      ]
     },
     "metadata": {},
     "output_type": "display_data"
    },
    {
     "name": "stdout",
     "output_type": "stream",
     "text": [
      "1445413 linhas com problema (51.06%)\n"
     ]
    },
    {
     "data": {
      "text/html": [
       "<div>\n",
       "<style scoped>\n",
       "    .dataframe tbody tr th:only-of-type {\n",
       "        vertical-align: middle;\n",
       "    }\n",
       "\n",
       "    .dataframe tbody tr th {\n",
       "        vertical-align: top;\n",
       "    }\n",
       "\n",
       "    .dataframe thead th {\n",
       "        text-align: right;\n",
       "    }\n",
       "</style>\n",
       "<table border=\"1\" class=\"dataframe\">\n",
       "  <thead>\n",
       "    <tr style=\"text-align: right;\">\n",
       "      <th></th>\n",
       "      <th>nan values</th>\n",
       "      <th>inf values</th>\n",
       "      <th>negative values</th>\n",
       "    </tr>\n",
       "  </thead>\n",
       "  <tbody>\n",
       "    <tr>\n",
       "      <th>Flow Duration</th>\n",
       "      <td>0</td>\n",
       "      <td>0</td>\n",
       "      <td>115</td>\n",
       "    </tr>\n",
       "    <tr>\n",
       "      <th>Flow Bytes/s</th>\n",
       "      <td>1358</td>\n",
       "      <td>1509</td>\n",
       "      <td>85</td>\n",
       "    </tr>\n",
       "    <tr>\n",
       "      <th>Flow Packets/s</th>\n",
       "      <td>0</td>\n",
       "      <td>2867</td>\n",
       "      <td>115</td>\n",
       "    </tr>\n",
       "    <tr>\n",
       "      <th>Flow IAT Mean</th>\n",
       "      <td>0</td>\n",
       "      <td>0</td>\n",
       "      <td>115</td>\n",
       "    </tr>\n",
       "    <tr>\n",
       "      <th>Flow IAT Max</th>\n",
       "      <td>0</td>\n",
       "      <td>0</td>\n",
       "      <td>115</td>\n",
       "    </tr>\n",
       "    <tr>\n",
       "      <th>Flow IAT Min</th>\n",
       "      <td>0</td>\n",
       "      <td>0</td>\n",
       "      <td>2891</td>\n",
       "    </tr>\n",
       "    <tr>\n",
       "      <th>Fwd IAT Min</th>\n",
       "      <td>0</td>\n",
       "      <td>0</td>\n",
       "      <td>17</td>\n",
       "    </tr>\n",
       "    <tr>\n",
       "      <th>Fwd Header Length</th>\n",
       "      <td>0</td>\n",
       "      <td>0</td>\n",
       "      <td>35</td>\n",
       "    </tr>\n",
       "    <tr>\n",
       "      <th>Bwd Header Length</th>\n",
       "      <td>0</td>\n",
       "      <td>0</td>\n",
       "      <td>22</td>\n",
       "    </tr>\n",
       "    <tr>\n",
       "      <th>Fwd Header Length.1</th>\n",
       "      <td>0</td>\n",
       "      <td>0</td>\n",
       "      <td>35</td>\n",
       "    </tr>\n",
       "    <tr>\n",
       "      <th>Init_Win_bytes_forward</th>\n",
       "      <td>0</td>\n",
       "      <td>0</td>\n",
       "      <td>1001189</td>\n",
       "    </tr>\n",
       "    <tr>\n",
       "      <th>Init_Win_bytes_backward</th>\n",
       "      <td>0</td>\n",
       "      <td>0</td>\n",
       "      <td>1441552</td>\n",
       "    </tr>\n",
       "    <tr>\n",
       "      <th>min_seg_size_forward</th>\n",
       "      <td>0</td>\n",
       "      <td>0</td>\n",
       "      <td>35</td>\n",
       "    </tr>\n",
       "  </tbody>\n",
       "</table>\n",
       "</div>"
      ],
      "text/plain": [
       "                         nan values  inf values  negative values\n",
       "Flow Duration                     0           0              115\n",
       "Flow Bytes/s                   1358        1509               85\n",
       "Flow Packets/s                    0        2867              115\n",
       "Flow IAT Mean                     0           0              115\n",
       "Flow IAT Max                      0           0              115\n",
       "Flow IAT Min                      0           0             2891\n",
       "Fwd IAT Min                       0           0               17\n",
       "Fwd Header Length                 0           0               35\n",
       "Bwd Header Length                 0           0               22\n",
       "Fwd Header Length.1               0           0               35\n",
       "Init_Win_bytes_forward            0           0          1001189\n",
       "Init_Win_bytes_backward           0           0          1441552\n",
       "min_seg_size_forward              0           0               35"
      ]
     },
     "metadata": {},
     "output_type": "display_data"
    }
   ],
   "source": [
    "with pd.option_context('display.max_rows', None, 'display.max_columns', None):\n",
    "    main(csvs, '../../data/MachineLearningCVEReport')"
   ]
  },
  {
   "cell_type": "code",
   "execution_count": 13,
   "id": "3fea4a13-d0b2-4c17-9fb8-3f5eea2dc1e5",
   "metadata": {},
   "outputs": [
    {
     "data": {
      "text/html": [
       "<h3>Labels em cada arquivo:</h3>"
      ],
      "text/plain": [
       "<IPython.core.display.HTML object>"
      ]
     },
     "metadata": {},
     "output_type": "display_data"
    },
    {
     "data": {
      "text/html": [
       "<h4>Monday-WorkingHours.pcap_ISCX</h4>"
      ],
      "text/plain": [
       "<IPython.core.display.HTML object>"
      ]
     },
     "metadata": {},
     "output_type": "display_data"
    },
    {
     "data": {
      "text/plain": [
       "BENIGN    529918\n",
       "Name:  Label, dtype: int64"
      ]
     },
     "metadata": {},
     "output_type": "display_data"
    },
    {
     "data": {
      "text/html": [
       "<hr/>"
      ],
      "text/plain": [
       "<IPython.core.display.HTML object>"
      ]
     },
     "metadata": {},
     "output_type": "display_data"
    },
    {
     "data": {
      "text/html": [
       "<h4>Thursday-WorkingHours-Morning-WebAttacks.pcap_ISCX</h4>"
      ],
      "text/plain": [
       "<IPython.core.display.HTML object>"
      ]
     },
     "metadata": {},
     "output_type": "display_data"
    },
    {
     "data": {
      "text/plain": [
       "BENIGN                        168186.0\n",
       "Web Attack � Brute Force        1507.0\n",
       "Web Attack � Sql Injection        21.0\n",
       "Web Attack � XSS                 652.0\n",
       "Name:  Label, dtype: float64"
      ]
     },
     "metadata": {},
     "output_type": "display_data"
    },
    {
     "data": {
      "text/html": [
       "<hr/>"
      ],
      "text/plain": [
       "<IPython.core.display.HTML object>"
      ]
     },
     "metadata": {},
     "output_type": "display_data"
    },
    {
     "data": {
      "text/html": [
       "<h4>Friday-WorkingHours-Afternoon-DDos.pcap_ISCX</h4>"
      ],
      "text/plain": [
       "<IPython.core.display.HTML object>"
      ]
     },
     "metadata": {},
     "output_type": "display_data"
    },
    {
     "data": {
      "text/plain": [
       "BENIGN     97718.0\n",
       "DDoS      128027.0\n",
       "Name:  Label, dtype: float64"
      ]
     },
     "metadata": {},
     "output_type": "display_data"
    },
    {
     "data": {
      "text/html": [
       "<hr/>"
      ],
      "text/plain": [
       "<IPython.core.display.HTML object>"
      ]
     },
     "metadata": {},
     "output_type": "display_data"
    },
    {
     "data": {
      "text/html": [
       "<h4>Friday-WorkingHours-Morning.pcap_ISCX</h4>"
      ],
      "text/plain": [
       "<IPython.core.display.HTML object>"
      ]
     },
     "metadata": {},
     "output_type": "display_data"
    },
    {
     "data": {
      "text/plain": [
       "BENIGN    189067.0\n",
       "Bot         1966.0\n",
       "Name:  Label, dtype: float64"
      ]
     },
     "metadata": {},
     "output_type": "display_data"
    },
    {
     "data": {
      "text/html": [
       "<hr/>"
      ],
      "text/plain": [
       "<IPython.core.display.HTML object>"
      ]
     },
     "metadata": {},
     "output_type": "display_data"
    },
    {
     "data": {
      "text/html": [
       "<h4>Tuesday-WorkingHours.pcap_ISCX</h4>"
      ],
      "text/plain": [
       "<IPython.core.display.HTML object>"
      ]
     },
     "metadata": {},
     "output_type": "display_data"
    },
    {
     "data": {
      "text/plain": [
       "BENIGN         432074.0\n",
       "FTP-Patator      7938.0\n",
       "SSH-Patator      5897.0\n",
       "Name:  Label, dtype: float64"
      ]
     },
     "metadata": {},
     "output_type": "display_data"
    },
    {
     "data": {
      "text/html": [
       "<hr/>"
      ],
      "text/plain": [
       "<IPython.core.display.HTML object>"
      ]
     },
     "metadata": {},
     "output_type": "display_data"
    },
    {
     "data": {
      "text/html": [
       "<h4>Wednesday-workingHours.pcap_ISCX</h4>"
      ],
      "text/plain": [
       "<IPython.core.display.HTML object>"
      ]
     },
     "metadata": {},
     "output_type": "display_data"
    },
    {
     "data": {
      "text/plain": [
       "BENIGN              440031.0\n",
       "DoS GoldenEye        10293.0\n",
       "DoS Hulk            231073.0\n",
       "DoS Slowhttptest      5499.0\n",
       "DoS slowloris         5796.0\n",
       "Heartbleed              11.0\n",
       "Name:  Label, dtype: float64"
      ]
     },
     "metadata": {},
     "output_type": "display_data"
    },
    {
     "data": {
      "text/html": [
       "<hr/>"
      ],
      "text/plain": [
       "<IPython.core.display.HTML object>"
      ]
     },
     "metadata": {},
     "output_type": "display_data"
    },
    {
     "data": {
      "text/html": [
       "<h4>Friday-WorkingHours-Afternoon-PortScan.pcap_ISCX</h4>"
      ],
      "text/plain": [
       "<IPython.core.display.HTML object>"
      ]
     },
     "metadata": {},
     "output_type": "display_data"
    },
    {
     "data": {
      "text/plain": [
       "BENIGN      127537.0\n",
       "PortScan    158930.0\n",
       "Name:  Label, dtype: float64"
      ]
     },
     "metadata": {},
     "output_type": "display_data"
    },
    {
     "data": {
      "text/html": [
       "<hr/>"
      ],
      "text/plain": [
       "<IPython.core.display.HTML object>"
      ]
     },
     "metadata": {},
     "output_type": "display_data"
    },
    {
     "data": {
      "text/html": [
       "<h4>Thursday-WorkingHours-Afternoon-Infilteration.pcap_ISCX</h4>"
      ],
      "text/plain": [
       "<IPython.core.display.HTML object>"
      ]
     },
     "metadata": {},
     "output_type": "display_data"
    },
    {
     "data": {
      "text/plain": [
       "BENIGN          288566.0\n",
       "Infiltration        36.0\n",
       "Name:  Label, dtype: float64"
      ]
     },
     "metadata": {},
     "output_type": "display_data"
    },
    {
     "data": {
      "text/html": [
       "<hr/>"
      ],
      "text/plain": [
       "<IPython.core.display.HTML object>"
      ]
     },
     "metadata": {},
     "output_type": "display_data"
    }
   ],
   "source": [
    "def label_counts(file_path):\n",
    "    chunks = pd.read_csv(file_path, chunksize=1000)\n",
    "    mapped = map(lambda chunk: chunk.iloc[:, -1].value_counts(), chunks)\n",
    "    return functools.reduce(lambda acc, v: acc.add(v, fill_value=0), mapped)\n",
    "\n",
    "def display_labels(csvs):\n",
    "    display(HTML(\"<h3>Labels em cada arquivo:</h3>\"))\n",
    "    for csv in csvs:\n",
    "        display(HTML((f'<h4>{util.basename(csv)}</h4>')))\n",
    "        display(label_counts(csv))\n",
    "        display(HTML('<hr/>'))\n",
    "        \n",
    "display_labels(csvs)        "
   ]
  }
 ],
 "metadata": {
  "kernelspec": {
   "display_name": "Python 3 (ipykernel)",
   "language": "python",
   "name": "python3"
  },
  "language_info": {
   "codemirror_mode": {
    "name": "ipython",
    "version": 3
   },
   "file_extension": ".py",
   "mimetype": "text/x-python",
   "name": "python",
   "nbconvert_exporter": "python",
   "pygments_lexer": "ipython3",
   "version": "3.8.10"
  }
 },
 "nbformat": 4,
 "nbformat_minor": 5
}
